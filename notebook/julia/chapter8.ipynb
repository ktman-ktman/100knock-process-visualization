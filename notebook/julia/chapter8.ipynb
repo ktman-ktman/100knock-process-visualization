{
 "cells": [
  {
   "attachments": {},
   "cell_type": "markdown",
   "metadata": {},
   "source": [
    "# 第8章 特殊な加工・可視化を行う10本ノック"
   ]
  },
  {
   "cell_type": "code",
   "execution_count": 106,
   "metadata": {},
   "outputs": [],
   "source": [
    "using CSV\n",
    "using DataFrames\n",
    "using DataFramesMeta\n",
    "using JSON\n",
    "using HTTP\n",
    "using YAML\n",
    "using TOML\n",
    "using PlotlyJS"
   ]
  },
  {
   "cell_type": "markdown",
   "metadata": {},
   "source": [
    "## 91"
   ]
  },
  {
   "cell_type": "code",
   "execution_count": 2,
   "metadata": {},
   "outputs": [
    {
     "data": {
      "text/html": [
       "<div><div style = \"float: left;\"><span>3540×10 DataFrame</span></div><div style = \"float: right;\"><span style = \"font-style: italic;\">3515 rows omitted</span></div><div style = \"clear: both;\"></div></div><div class = \"data-frame\" style = \"overflow-x: scroll;\"><table class = \"data-frame\" style = \"margin-bottom: 6px;\"><thead><tr class = \"header\"><th class = \"rowNumber\" style = \"font-weight: bold; text-align: right;\">Row</th><th style = \"text-align: left;\">id</th><th style = \"text-align: left;\">place</th><th style = \"text-align: left;\">receive_time</th><th style = \"text-align: left;\">sensor_num</th><th style = \"text-align: left;\">in1</th><th style = \"text-align: left;\">out1</th><th style = \"text-align: left;\">state1</th><th style = \"text-align: left;\">in2</th><th style = \"text-align: left;\">out2</th><th style = \"text-align: left;\">state2</th></tr><tr class = \"subheader headerLastRow\"><th class = \"rowNumber\" style = \"font-weight: bold; text-align: right;\"></th><th title = \"Int64\" style = \"text-align: left;\">Int64</th><th title = \"Int64\" style = \"text-align: left;\">Int64</th><th title = \"String31\" style = \"text-align: left;\">String31</th><th title = \"Int64\" style = \"text-align: left;\">Int64</th><th title = \"Int64\" style = \"text-align: left;\">Int64</th><th title = \"Int64\" style = \"text-align: left;\">Int64</th><th title = \"Int64\" style = \"text-align: left;\">Int64</th><th title = \"Int64\" style = \"text-align: left;\">Int64</th><th title = \"Int64\" style = \"text-align: left;\">Int64</th><th title = \"Int64\" style = \"text-align: left;\">Int64</th></tr></thead><tbody><tr><td class = \"rowNumber\" style = \"font-weight: bold; text-align: right;\">1</td><td style = \"text-align: right;\">0</td><td style = \"text-align: right;\">1</td><td style = \"text-align: left;\">2021-01-15 09:00:00.144</td><td style = \"text-align: right;\">2</td><td style = \"text-align: right;\">508</td><td style = \"text-align: right;\">73</td><td style = \"text-align: right;\">0</td><td style = \"text-align: right;\">73</td><td style = \"text-align: right;\">508</td><td style = \"text-align: right;\">0</td></tr><tr><td class = \"rowNumber\" style = \"font-weight: bold; text-align: right;\">2</td><td style = \"text-align: right;\">1</td><td style = \"text-align: right;\">1</td><td style = \"text-align: left;\">2021-01-15 09:00:01.146</td><td style = \"text-align: right;\">2</td><td style = \"text-align: right;\">508</td><td style = \"text-align: right;\">73</td><td style = \"text-align: right;\">0</td><td style = \"text-align: right;\">73</td><td style = \"text-align: right;\">508</td><td style = \"text-align: right;\">0</td></tr><tr><td class = \"rowNumber\" style = \"font-weight: bold; text-align: right;\">3</td><td style = \"text-align: right;\">2</td><td style = \"text-align: right;\">1</td><td style = \"text-align: left;\">2021-01-15 09:00:02.161</td><td style = \"text-align: right;\">2</td><td style = \"text-align: right;\">508</td><td style = \"text-align: right;\">73</td><td style = \"text-align: right;\">0</td><td style = \"text-align: right;\">73</td><td style = \"text-align: right;\">508</td><td style = \"text-align: right;\">0</td></tr><tr><td class = \"rowNumber\" style = \"font-weight: bold; text-align: right;\">4</td><td style = \"text-align: right;\">3</td><td style = \"text-align: right;\">1</td><td style = \"text-align: left;\">2021-01-15 09:00:03.176</td><td style = \"text-align: right;\">2</td><td style = \"text-align: right;\">508</td><td style = \"text-align: right;\">73</td><td style = \"text-align: right;\">0</td><td style = \"text-align: right;\">73</td><td style = \"text-align: right;\">508</td><td style = \"text-align: right;\">0</td></tr><tr><td class = \"rowNumber\" style = \"font-weight: bold; text-align: right;\">5</td><td style = \"text-align: right;\">4</td><td style = \"text-align: right;\">1</td><td style = \"text-align: left;\">2021-01-15 09:00:04.192</td><td style = \"text-align: right;\">2</td><td style = \"text-align: right;\">508</td><td style = \"text-align: right;\">73</td><td style = \"text-align: right;\">0</td><td style = \"text-align: right;\">73</td><td style = \"text-align: right;\">508</td><td style = \"text-align: right;\">0</td></tr><tr><td class = \"rowNumber\" style = \"font-weight: bold; text-align: right;\">6</td><td style = \"text-align: right;\">5</td><td style = \"text-align: right;\">1</td><td style = \"text-align: left;\">2021-01-15 09:00:05.207</td><td style = \"text-align: right;\">2</td><td style = \"text-align: right;\">508</td><td style = \"text-align: right;\">73</td><td style = \"text-align: right;\">0</td><td style = \"text-align: right;\">73</td><td style = \"text-align: right;\">508</td><td style = \"text-align: right;\">0</td></tr><tr><td class = \"rowNumber\" style = \"font-weight: bold; text-align: right;\">7</td><td style = \"text-align: right;\">6</td><td style = \"text-align: right;\">1</td><td style = \"text-align: left;\">2021-01-15 09:00:06.222</td><td style = \"text-align: right;\">2</td><td style = \"text-align: right;\">508</td><td style = \"text-align: right;\">73</td><td style = \"text-align: right;\">0</td><td style = \"text-align: right;\">73</td><td style = \"text-align: right;\">508</td><td style = \"text-align: right;\">0</td></tr><tr><td class = \"rowNumber\" style = \"font-weight: bold; text-align: right;\">8</td><td style = \"text-align: right;\">7</td><td style = \"text-align: right;\">1</td><td style = \"text-align: left;\">2021-01-15 09:00:07.238</td><td style = \"text-align: right;\">2</td><td style = \"text-align: right;\">508</td><td style = \"text-align: right;\">73</td><td style = \"text-align: right;\">0</td><td style = \"text-align: right;\">73</td><td style = \"text-align: right;\">508</td><td style = \"text-align: right;\">0</td></tr><tr><td class = \"rowNumber\" style = \"font-weight: bold; text-align: right;\">9</td><td style = \"text-align: right;\">8</td><td style = \"text-align: right;\">1</td><td style = \"text-align: left;\">2021-01-15 09:00:08.253</td><td style = \"text-align: right;\">2</td><td style = \"text-align: right;\">508</td><td style = \"text-align: right;\">73</td><td style = \"text-align: right;\">0</td><td style = \"text-align: right;\">73</td><td style = \"text-align: right;\">508</td><td style = \"text-align: right;\">0</td></tr><tr><td class = \"rowNumber\" style = \"font-weight: bold; text-align: right;\">10</td><td style = \"text-align: right;\">9</td><td style = \"text-align: right;\">1</td><td style = \"text-align: left;\">2021-01-15 09:00:09.269</td><td style = \"text-align: right;\">2</td><td style = \"text-align: right;\">508</td><td style = \"text-align: right;\">73</td><td style = \"text-align: right;\">0</td><td style = \"text-align: right;\">73</td><td style = \"text-align: right;\">508</td><td style = \"text-align: right;\">0</td></tr><tr><td class = \"rowNumber\" style = \"font-weight: bold; text-align: right;\">11</td><td style = \"text-align: right;\">10</td><td style = \"text-align: right;\">1</td><td style = \"text-align: left;\">2021-01-15 09:00:10.284</td><td style = \"text-align: right;\">2</td><td style = \"text-align: right;\">508</td><td style = \"text-align: right;\">73</td><td style = \"text-align: right;\">0</td><td style = \"text-align: right;\">73</td><td style = \"text-align: right;\">508</td><td style = \"text-align: right;\">0</td></tr><tr><td class = \"rowNumber\" style = \"font-weight: bold; text-align: right;\">12</td><td style = \"text-align: right;\">11</td><td style = \"text-align: right;\">1</td><td style = \"text-align: left;\">2021-01-15 09:00:11.3</td><td style = \"text-align: right;\">2</td><td style = \"text-align: right;\">508</td><td style = \"text-align: right;\">73</td><td style = \"text-align: right;\">0</td><td style = \"text-align: right;\">73</td><td style = \"text-align: right;\">508</td><td style = \"text-align: right;\">0</td></tr><tr><td class = \"rowNumber\" style = \"font-weight: bold; text-align: right;\">13</td><td style = \"text-align: right;\">12</td><td style = \"text-align: right;\">1</td><td style = \"text-align: left;\">2021-01-15 09:00:12.315</td><td style = \"text-align: right;\">2</td><td style = \"text-align: right;\">508</td><td style = \"text-align: right;\">73</td><td style = \"text-align: right;\">0</td><td style = \"text-align: right;\">73</td><td style = \"text-align: right;\">508</td><td style = \"text-align: right;\">0</td></tr><tr><td style = \"text-align: right;\">&vellip;</td><td style = \"text-align: right;\">&vellip;</td><td style = \"text-align: right;\">&vellip;</td><td style = \"text-align: right;\">&vellip;</td><td style = \"text-align: right;\">&vellip;</td><td style = \"text-align: right;\">&vellip;</td><td style = \"text-align: right;\">&vellip;</td><td style = \"text-align: right;\">&vellip;</td><td style = \"text-align: right;\">&vellip;</td><td style = \"text-align: right;\">&vellip;</td><td style = \"text-align: right;\">&vellip;</td></tr><tr><td class = \"rowNumber\" style = \"font-weight: bold; text-align: right;\">3529</td><td style = \"text-align: right;\">3528</td><td style = \"text-align: right;\">1</td><td style = \"text-align: left;\">2021-01-15 09:59:47.947</td><td style = \"text-align: right;\">2</td><td style = \"text-align: right;\">782</td><td style = \"text-align: right;\">156</td><td style = \"text-align: right;\">0</td><td style = \"text-align: right;\">156</td><td style = \"text-align: right;\">782</td><td style = \"text-align: right;\">0</td></tr><tr><td class = \"rowNumber\" style = \"font-weight: bold; text-align: right;\">3530</td><td style = \"text-align: right;\">3529</td><td style = \"text-align: right;\">1</td><td style = \"text-align: left;\">2021-01-15 09:59:48.962</td><td style = \"text-align: right;\">2</td><td style = \"text-align: right;\">782</td><td style = \"text-align: right;\">156</td><td style = \"text-align: right;\">0</td><td style = \"text-align: right;\">156</td><td style = \"text-align: right;\">782</td><td style = \"text-align: right;\">0</td></tr><tr><td class = \"rowNumber\" style = \"font-weight: bold; text-align: right;\">3531</td><td style = \"text-align: right;\">3530</td><td style = \"text-align: right;\">1</td><td style = \"text-align: left;\">2021-01-15 09:59:49.978</td><td style = \"text-align: right;\">2</td><td style = \"text-align: right;\">782</td><td style = \"text-align: right;\">156</td><td style = \"text-align: right;\">0</td><td style = \"text-align: right;\">156</td><td style = \"text-align: right;\">782</td><td style = \"text-align: right;\">0</td></tr><tr><td class = \"rowNumber\" style = \"font-weight: bold; text-align: right;\">3532</td><td style = \"text-align: right;\">3531</td><td style = \"text-align: right;\">1</td><td style = \"text-align: left;\">2021-01-15 09:59:50.993</td><td style = \"text-align: right;\">2</td><td style = \"text-align: right;\">782</td><td style = \"text-align: right;\">156</td><td style = \"text-align: right;\">0</td><td style = \"text-align: right;\">156</td><td style = \"text-align: right;\">782</td><td style = \"text-align: right;\">0</td></tr><tr><td class = \"rowNumber\" style = \"font-weight: bold; text-align: right;\">3533</td><td style = \"text-align: right;\">3532</td><td style = \"text-align: right;\">1</td><td style = \"text-align: left;\">2021-01-15 09:59:52.008</td><td style = \"text-align: right;\">2</td><td style = \"text-align: right;\">782</td><td style = \"text-align: right;\">156</td><td style = \"text-align: right;\">0</td><td style = \"text-align: right;\">156</td><td style = \"text-align: right;\">782</td><td style = \"text-align: right;\">0</td></tr><tr><td class = \"rowNumber\" style = \"font-weight: bold; text-align: right;\">3534</td><td style = \"text-align: right;\">3533</td><td style = \"text-align: right;\">1</td><td style = \"text-align: left;\">2021-01-15 09:59:53.024</td><td style = \"text-align: right;\">2</td><td style = \"text-align: right;\">782</td><td style = \"text-align: right;\">156</td><td style = \"text-align: right;\">0</td><td style = \"text-align: right;\">156</td><td style = \"text-align: right;\">782</td><td style = \"text-align: right;\">0</td></tr><tr><td class = \"rowNumber\" style = \"font-weight: bold; text-align: right;\">3535</td><td style = \"text-align: right;\">3534</td><td style = \"text-align: right;\">1</td><td style = \"text-align: left;\">2021-01-15 09:59:54.039</td><td style = \"text-align: right;\">2</td><td style = \"text-align: right;\">782</td><td style = \"text-align: right;\">156</td><td style = \"text-align: right;\">0</td><td style = \"text-align: right;\">156</td><td style = \"text-align: right;\">782</td><td style = \"text-align: right;\">0</td></tr><tr><td class = \"rowNumber\" style = \"font-weight: bold; text-align: right;\">3536</td><td style = \"text-align: right;\">3535</td><td style = \"text-align: right;\">1</td><td style = \"text-align: left;\">2021-01-15 09:59:55.054</td><td style = \"text-align: right;\">2</td><td style = \"text-align: right;\">782</td><td style = \"text-align: right;\">156</td><td style = \"text-align: right;\">0</td><td style = \"text-align: right;\">156</td><td style = \"text-align: right;\">782</td><td style = \"text-align: right;\">0</td></tr><tr><td class = \"rowNumber\" style = \"font-weight: bold; text-align: right;\">3537</td><td style = \"text-align: right;\">3536</td><td style = \"text-align: right;\">1</td><td style = \"text-align: left;\">2021-01-15 09:59:56.07</td><td style = \"text-align: right;\">2</td><td style = \"text-align: right;\">782</td><td style = \"text-align: right;\">156</td><td style = \"text-align: right;\">0</td><td style = \"text-align: right;\">156</td><td style = \"text-align: right;\">782</td><td style = \"text-align: right;\">0</td></tr><tr><td class = \"rowNumber\" style = \"font-weight: bold; text-align: right;\">3538</td><td style = \"text-align: right;\">3537</td><td style = \"text-align: right;\">1</td><td style = \"text-align: left;\">2021-01-15 09:59:57.085</td><td style = \"text-align: right;\">2</td><td style = \"text-align: right;\">782</td><td style = \"text-align: right;\">156</td><td style = \"text-align: right;\">0</td><td style = \"text-align: right;\">156</td><td style = \"text-align: right;\">782</td><td style = \"text-align: right;\">0</td></tr><tr><td class = \"rowNumber\" style = \"font-weight: bold; text-align: right;\">3539</td><td style = \"text-align: right;\">3538</td><td style = \"text-align: right;\">1</td><td style = \"text-align: left;\">2021-01-15 09:59:58.101</td><td style = \"text-align: right;\">2</td><td style = \"text-align: right;\">782</td><td style = \"text-align: right;\">156</td><td style = \"text-align: right;\">0</td><td style = \"text-align: right;\">156</td><td style = \"text-align: right;\">782</td><td style = \"text-align: right;\">0</td></tr><tr><td class = \"rowNumber\" style = \"font-weight: bold; text-align: right;\">3540</td><td style = \"text-align: right;\">3539</td><td style = \"text-align: right;\">1</td><td style = \"text-align: left;\">2021-01-15 09:59:59.116</td><td style = \"text-align: right;\">2</td><td style = \"text-align: right;\">782</td><td style = \"text-align: right;\">156</td><td style = \"text-align: right;\">0</td><td style = \"text-align: right;\">156</td><td style = \"text-align: right;\">782</td><td style = \"text-align: right;\">0</td></tr></tbody></table></div>"
      ],
      "text/latex": [
       "\\begin{tabular}{r|ccccccccc}\n",
       "\t& id & place & receive\\_time & sensor\\_num & in1 & out1 & state1 & in2 & \\\\\n",
       "\t\\hline\n",
       "\t& Int64 & Int64 & String31 & Int64 & Int64 & Int64 & Int64 & Int64 & \\\\\n",
       "\t\\hline\n",
       "\t1 & 0 & 1 & 2021-01-15 09:00:00.144 & 2 & 508 & 73 & 0 & 73 & $\\dots$ \\\\\n",
       "\t2 & 1 & 1 & 2021-01-15 09:00:01.146 & 2 & 508 & 73 & 0 & 73 & $\\dots$ \\\\\n",
       "\t3 & 2 & 1 & 2021-01-15 09:00:02.161 & 2 & 508 & 73 & 0 & 73 & $\\dots$ \\\\\n",
       "\t4 & 3 & 1 & 2021-01-15 09:00:03.176 & 2 & 508 & 73 & 0 & 73 & $\\dots$ \\\\\n",
       "\t5 & 4 & 1 & 2021-01-15 09:00:04.192 & 2 & 508 & 73 & 0 & 73 & $\\dots$ \\\\\n",
       "\t6 & 5 & 1 & 2021-01-15 09:00:05.207 & 2 & 508 & 73 & 0 & 73 & $\\dots$ \\\\\n",
       "\t7 & 6 & 1 & 2021-01-15 09:00:06.222 & 2 & 508 & 73 & 0 & 73 & $\\dots$ \\\\\n",
       "\t8 & 7 & 1 & 2021-01-15 09:00:07.238 & 2 & 508 & 73 & 0 & 73 & $\\dots$ \\\\\n",
       "\t9 & 8 & 1 & 2021-01-15 09:00:08.253 & 2 & 508 & 73 & 0 & 73 & $\\dots$ \\\\\n",
       "\t10 & 9 & 1 & 2021-01-15 09:00:09.269 & 2 & 508 & 73 & 0 & 73 & $\\dots$ \\\\\n",
       "\t11 & 10 & 1 & 2021-01-15 09:00:10.284 & 2 & 508 & 73 & 0 & 73 & $\\dots$ \\\\\n",
       "\t12 & 11 & 1 & 2021-01-15 09:00:11.3 & 2 & 508 & 73 & 0 & 73 & $\\dots$ \\\\\n",
       "\t13 & 12 & 1 & 2021-01-15 09:00:12.315 & 2 & 508 & 73 & 0 & 73 & $\\dots$ \\\\\n",
       "\t14 & 13 & 1 & 2021-01-15 09:00:13.33 & 2 & 508 & 73 & 0 & 73 & $\\dots$ \\\\\n",
       "\t15 & 14 & 1 & 2021-01-15 09:00:14.346 & 2 & 508 & 73 & 0 & 73 & $\\dots$ \\\\\n",
       "\t16 & 15 & 1 & 2021-01-15 09:00:15.347 & 2 & 508 & 73 & 0 & 73 & $\\dots$ \\\\\n",
       "\t17 & 16 & 1 & 2021-01-15 09:00:16.363 & 2 & 508 & 73 & 0 & 73 & $\\dots$ \\\\\n",
       "\t18 & 17 & 1 & 2021-01-15 09:00:17.378 & 2 & 508 & 73 & 0 & 73 & $\\dots$ \\\\\n",
       "\t19 & 18 & 1 & 2021-01-15 09:00:18.393 & 2 & 508 & 73 & 0 & 73 & $\\dots$ \\\\\n",
       "\t20 & 19 & 1 & 2021-01-15 09:00:19.409 & 2 & 508 & 73 & 0 & 73 & $\\dots$ \\\\\n",
       "\t21 & 20 & 1 & 2021-01-15 09:00:20.424 & 2 & 508 & 73 & 0 & 73 & $\\dots$ \\\\\n",
       "\t22 & 21 & 1 & 2021-01-15 09:00:21.44 & 2 & 508 & 73 & 0 & 73 & $\\dots$ \\\\\n",
       "\t23 & 22 & 1 & 2021-01-15 09:00:22.455 & 2 & 508 & 73 & 0 & 73 & $\\dots$ \\\\\n",
       "\t24 & 23 & 1 & 2021-01-15 09:00:23.47 & 2 & 508 & 73 & 0 & 73 & $\\dots$ \\\\\n",
       "\t$\\dots$ & $\\dots$ & $\\dots$ & $\\dots$ & $\\dots$ & $\\dots$ & $\\dots$ & $\\dots$ & $\\dots$ &  \\\\\n",
       "\\end{tabular}\n"
      ],
      "text/plain": [
       "\u001b[1m3540×10 DataFrame\u001b[0m\n",
       "\u001b[1m  Row \u001b[0m│\u001b[1m id    \u001b[0m\u001b[1m place \u001b[0m\u001b[1m receive_time            \u001b[0m\u001b[1m sensor_num \u001b[0m\u001b[1m in1   \u001b[0m\u001b[1m out1  \u001b[0m\u001b[1m state\u001b[0m ⋯\n",
       "      │\u001b[90m Int64 \u001b[0m\u001b[90m Int64 \u001b[0m\u001b[90m String31                \u001b[0m\u001b[90m Int64      \u001b[0m\u001b[90m Int64 \u001b[0m\u001b[90m Int64 \u001b[0m\u001b[90m Int64\u001b[0m ⋯\n",
       "──────┼─────────────────────────────────────────────────────────────────────────\n",
       "    1 │     0      1  2021-01-15 09:00:00.144           2    508     73        ⋯\n",
       "    2 │     1      1  2021-01-15 09:00:01.146           2    508     73\n",
       "    3 │     2      1  2021-01-15 09:00:02.161           2    508     73\n",
       "    4 │     3      1  2021-01-15 09:00:03.176           2    508     73\n",
       "    5 │     4      1  2021-01-15 09:00:04.192           2    508     73        ⋯\n",
       "    6 │     5      1  2021-01-15 09:00:05.207           2    508     73\n",
       "    7 │     6      1  2021-01-15 09:00:06.222           2    508     73\n",
       "    8 │     7      1  2021-01-15 09:00:07.238           2    508     73\n",
       "  ⋮   │   ⋮      ⋮               ⋮                 ⋮         ⋮      ⋮      ⋮   ⋱\n",
       " 3534 │  3533      1  2021-01-15 09:59:53.024           2    782    156        ⋯\n",
       " 3535 │  3534      1  2021-01-15 09:59:54.039           2    782    156\n",
       " 3536 │  3535      1  2021-01-15 09:59:55.054           2    782    156\n",
       " 3537 │  3536      1  2021-01-15 09:59:56.07            2    782    156\n",
       " 3538 │  3537      1  2021-01-15 09:59:57.085           2    782    156        ⋯\n",
       " 3539 │  3538      1  2021-01-15 09:59:58.101           2    782    156\n",
       " 3540 │  3539      1  2021-01-15 09:59:59.116           2    782    156\n",
       "\u001b[36m                                                 4 columns and 3525 rows omitted\u001b[0m"
      ]
     },
     "metadata": {},
     "output_type": "display_data"
    }
   ],
   "source": [
    "ifn = \"../../data/chapter-8/data/person_count_out_0001_2021011509.csv\"\n",
    "if !isfile(ifn)\n",
    "    throw(error())\n",
    "end\n",
    "df = CSV.read(ifn, DataFrame)"
   ]
  },
  {
   "cell_type": "code",
   "execution_count": 3,
   "metadata": {},
   "outputs": [
    {
     "data": {
      "text/html": [
       "<div><div style = \"float: left;\"><span>500×10 DataFrame</span></div><div style = \"float: right;\"><span style = \"font-style: italic;\">475 rows omitted</span></div><div style = \"clear: both;\"></div></div><div class = \"data-frame\" style = \"overflow-x: scroll;\"><table class = \"data-frame\" style = \"margin-bottom: 6px;\"><thead><tr class = \"header\"><th class = \"rowNumber\" style = \"font-weight: bold; text-align: right;\">Row</th><th style = \"text-align: left;\">id</th><th style = \"text-align: left;\">place</th><th style = \"text-align: left;\">receive_time</th><th style = \"text-align: left;\">sensor_num</th><th style = \"text-align: left;\">in1</th><th style = \"text-align: left;\">out1</th><th style = \"text-align: left;\">state1</th><th style = \"text-align: left;\">in2</th><th style = \"text-align: left;\">out2</th><th style = \"text-align: left;\">state2</th></tr><tr class = \"subheader headerLastRow\"><th class = \"rowNumber\" style = \"font-weight: bold; text-align: right;\"></th><th title = \"Int64\" style = \"text-align: left;\">Int64</th><th title = \"Int64\" style = \"text-align: left;\">Int64</th><th title = \"String31\" style = \"text-align: left;\">String31</th><th title = \"Int64\" style = \"text-align: left;\">Int64</th><th title = \"Int64\" style = \"text-align: left;\">Int64</th><th title = \"Int64\" style = \"text-align: left;\">Int64</th><th title = \"Int64\" style = \"text-align: left;\">Int64</th><th title = \"Int64\" style = \"text-align: left;\">Int64</th><th title = \"Int64\" style = \"text-align: left;\">Int64</th><th title = \"Int64\" style = \"text-align: left;\">Int64</th></tr></thead><tbody><tr><td class = \"rowNumber\" style = \"font-weight: bold; text-align: right;\">1</td><td style = \"text-align: right;\">0</td><td style = \"text-align: right;\">1</td><td style = \"text-align: left;\">2021-01-15 09:00:00.144</td><td style = \"text-align: right;\">2</td><td style = \"text-align: right;\">508</td><td style = \"text-align: right;\">73</td><td style = \"text-align: right;\">0</td><td style = \"text-align: right;\">73</td><td style = \"text-align: right;\">508</td><td style = \"text-align: right;\">0</td></tr><tr><td class = \"rowNumber\" style = \"font-weight: bold; text-align: right;\">2</td><td style = \"text-align: right;\">1</td><td style = \"text-align: right;\">1</td><td style = \"text-align: left;\">2021-01-15 09:00:01.146</td><td style = \"text-align: right;\">2</td><td style = \"text-align: right;\">508</td><td style = \"text-align: right;\">73</td><td style = \"text-align: right;\">0</td><td style = \"text-align: right;\">73</td><td style = \"text-align: right;\">508</td><td style = \"text-align: right;\">0</td></tr><tr><td class = \"rowNumber\" style = \"font-weight: bold; text-align: right;\">3</td><td style = \"text-align: right;\">2</td><td style = \"text-align: right;\">1</td><td style = \"text-align: left;\">2021-01-15 09:00:02.161</td><td style = \"text-align: right;\">2</td><td style = \"text-align: right;\">508</td><td style = \"text-align: right;\">73</td><td style = \"text-align: right;\">0</td><td style = \"text-align: right;\">73</td><td style = \"text-align: right;\">508</td><td style = \"text-align: right;\">0</td></tr><tr><td class = \"rowNumber\" style = \"font-weight: bold; text-align: right;\">4</td><td style = \"text-align: right;\">3</td><td style = \"text-align: right;\">1</td><td style = \"text-align: left;\">2021-01-15 09:00:03.176</td><td style = \"text-align: right;\">2</td><td style = \"text-align: right;\">508</td><td style = \"text-align: right;\">73</td><td style = \"text-align: right;\">0</td><td style = \"text-align: right;\">73</td><td style = \"text-align: right;\">508</td><td style = \"text-align: right;\">0</td></tr><tr><td class = \"rowNumber\" style = \"font-weight: bold; text-align: right;\">5</td><td style = \"text-align: right;\">4</td><td style = \"text-align: right;\">1</td><td style = \"text-align: left;\">2021-01-15 09:00:04.192</td><td style = \"text-align: right;\">2</td><td style = \"text-align: right;\">508</td><td style = \"text-align: right;\">73</td><td style = \"text-align: right;\">0</td><td style = \"text-align: right;\">73</td><td style = \"text-align: right;\">508</td><td style = \"text-align: right;\">0</td></tr><tr><td class = \"rowNumber\" style = \"font-weight: bold; text-align: right;\">6</td><td style = \"text-align: right;\">5</td><td style = \"text-align: right;\">1</td><td style = \"text-align: left;\">2021-01-15 09:00:05.207</td><td style = \"text-align: right;\">2</td><td style = \"text-align: right;\">508</td><td style = \"text-align: right;\">73</td><td style = \"text-align: right;\">0</td><td style = \"text-align: right;\">73</td><td style = \"text-align: right;\">508</td><td style = \"text-align: right;\">0</td></tr><tr><td class = \"rowNumber\" style = \"font-weight: bold; text-align: right;\">7</td><td style = \"text-align: right;\">6</td><td style = \"text-align: right;\">1</td><td style = \"text-align: left;\">2021-01-15 09:00:06.222</td><td style = \"text-align: right;\">2</td><td style = \"text-align: right;\">508</td><td style = \"text-align: right;\">73</td><td style = \"text-align: right;\">0</td><td style = \"text-align: right;\">73</td><td style = \"text-align: right;\">508</td><td style = \"text-align: right;\">0</td></tr><tr><td class = \"rowNumber\" style = \"font-weight: bold; text-align: right;\">8</td><td style = \"text-align: right;\">7</td><td style = \"text-align: right;\">1</td><td style = \"text-align: left;\">2021-01-15 09:00:07.238</td><td style = \"text-align: right;\">2</td><td style = \"text-align: right;\">508</td><td style = \"text-align: right;\">73</td><td style = \"text-align: right;\">0</td><td style = \"text-align: right;\">73</td><td style = \"text-align: right;\">508</td><td style = \"text-align: right;\">0</td></tr><tr><td class = \"rowNumber\" style = \"font-weight: bold; text-align: right;\">9</td><td style = \"text-align: right;\">8</td><td style = \"text-align: right;\">1</td><td style = \"text-align: left;\">2021-01-15 09:00:08.253</td><td style = \"text-align: right;\">2</td><td style = \"text-align: right;\">508</td><td style = \"text-align: right;\">73</td><td style = \"text-align: right;\">0</td><td style = \"text-align: right;\">73</td><td style = \"text-align: right;\">508</td><td style = \"text-align: right;\">0</td></tr><tr><td class = \"rowNumber\" style = \"font-weight: bold; text-align: right;\">10</td><td style = \"text-align: right;\">9</td><td style = \"text-align: right;\">1</td><td style = \"text-align: left;\">2021-01-15 09:00:09.269</td><td style = \"text-align: right;\">2</td><td style = \"text-align: right;\">508</td><td style = \"text-align: right;\">73</td><td style = \"text-align: right;\">0</td><td style = \"text-align: right;\">73</td><td style = \"text-align: right;\">508</td><td style = \"text-align: right;\">0</td></tr><tr><td class = \"rowNumber\" style = \"font-weight: bold; text-align: right;\">11</td><td style = \"text-align: right;\">10</td><td style = \"text-align: right;\">1</td><td style = \"text-align: left;\">2021-01-15 09:00:10.284</td><td style = \"text-align: right;\">2</td><td style = \"text-align: right;\">508</td><td style = \"text-align: right;\">73</td><td style = \"text-align: right;\">0</td><td style = \"text-align: right;\">73</td><td style = \"text-align: right;\">508</td><td style = \"text-align: right;\">0</td></tr><tr><td class = \"rowNumber\" style = \"font-weight: bold; text-align: right;\">12</td><td style = \"text-align: right;\">11</td><td style = \"text-align: right;\">1</td><td style = \"text-align: left;\">2021-01-15 09:00:11.3</td><td style = \"text-align: right;\">2</td><td style = \"text-align: right;\">508</td><td style = \"text-align: right;\">73</td><td style = \"text-align: right;\">0</td><td style = \"text-align: right;\">73</td><td style = \"text-align: right;\">508</td><td style = \"text-align: right;\">0</td></tr><tr><td class = \"rowNumber\" style = \"font-weight: bold; text-align: right;\">13</td><td style = \"text-align: right;\">12</td><td style = \"text-align: right;\">1</td><td style = \"text-align: left;\">2021-01-15 09:00:12.315</td><td style = \"text-align: right;\">2</td><td style = \"text-align: right;\">508</td><td style = \"text-align: right;\">73</td><td style = \"text-align: right;\">0</td><td style = \"text-align: right;\">73</td><td style = \"text-align: right;\">508</td><td style = \"text-align: right;\">0</td></tr><tr><td style = \"text-align: right;\">&vellip;</td><td style = \"text-align: right;\">&vellip;</td><td style = \"text-align: right;\">&vellip;</td><td style = \"text-align: right;\">&vellip;</td><td style = \"text-align: right;\">&vellip;</td><td style = \"text-align: right;\">&vellip;</td><td style = \"text-align: right;\">&vellip;</td><td style = \"text-align: right;\">&vellip;</td><td style = \"text-align: right;\">&vellip;</td><td style = \"text-align: right;\">&vellip;</td><td style = \"text-align: right;\">&vellip;</td></tr><tr><td class = \"rowNumber\" style = \"font-weight: bold; text-align: right;\">489</td><td style = \"text-align: right;\">488</td><td style = \"text-align: right;\">1</td><td style = \"text-align: left;\">2021-01-15 09:08:17.167</td><td style = \"text-align: right;\">2</td><td style = \"text-align: right;\">546</td><td style = \"text-align: right;\">83</td><td style = \"text-align: right;\">3</td><td style = \"text-align: right;\">83</td><td style = \"text-align: right;\">546</td><td style = \"text-align: right;\">3</td></tr><tr><td class = \"rowNumber\" style = \"font-weight: bold; text-align: right;\">490</td><td style = \"text-align: right;\">489</td><td style = \"text-align: right;\">1</td><td style = \"text-align: left;\">2021-01-15 09:08:18.182</td><td style = \"text-align: right;\">2</td><td style = \"text-align: right;\">546</td><td style = \"text-align: right;\">83</td><td style = \"text-align: right;\">3</td><td style = \"text-align: right;\">83</td><td style = \"text-align: right;\">546</td><td style = \"text-align: right;\">3</td></tr><tr><td class = \"rowNumber\" style = \"font-weight: bold; text-align: right;\">491</td><td style = \"text-align: right;\">490</td><td style = \"text-align: right;\">1</td><td style = \"text-align: left;\">2021-01-15 09:08:19.198</td><td style = \"text-align: right;\">2</td><td style = \"text-align: right;\">547</td><td style = \"text-align: right;\">83</td><td style = \"text-align: right;\">2</td><td style = \"text-align: right;\">83</td><td style = \"text-align: right;\">547</td><td style = \"text-align: right;\">2</td></tr><tr><td class = \"rowNumber\" style = \"font-weight: bold; text-align: right;\">492</td><td style = \"text-align: right;\">491</td><td style = \"text-align: right;\">1</td><td style = \"text-align: left;\">2021-01-15 09:08:20.213</td><td style = \"text-align: right;\">2</td><td style = \"text-align: right;\">548</td><td style = \"text-align: right;\">83</td><td style = \"text-align: right;\">1</td><td style = \"text-align: right;\">83</td><td style = \"text-align: right;\">548</td><td style = \"text-align: right;\">1</td></tr><tr><td class = \"rowNumber\" style = \"font-weight: bold; text-align: right;\">493</td><td style = \"text-align: right;\">492</td><td style = \"text-align: right;\">1</td><td style = \"text-align: left;\">2021-01-15 09:08:21.229</td><td style = \"text-align: right;\">2</td><td style = \"text-align: right;\">548</td><td style = \"text-align: right;\">83</td><td style = \"text-align: right;\">1</td><td style = \"text-align: right;\">83</td><td style = \"text-align: right;\">548</td><td style = \"text-align: right;\">1</td></tr><tr><td class = \"rowNumber\" style = \"font-weight: bold; text-align: right;\">494</td><td style = \"text-align: right;\">493</td><td style = \"text-align: right;\">1</td><td style = \"text-align: left;\">2021-01-15 09:08:22.244</td><td style = \"text-align: right;\">2</td><td style = \"text-align: right;\">548</td><td style = \"text-align: right;\">83</td><td style = \"text-align: right;\">1</td><td style = \"text-align: right;\">83</td><td style = \"text-align: right;\">548</td><td style = \"text-align: right;\">1</td></tr><tr><td class = \"rowNumber\" style = \"font-weight: bold; text-align: right;\">495</td><td style = \"text-align: right;\">494</td><td style = \"text-align: right;\">1</td><td style = \"text-align: left;\">2021-01-15 09:08:23.259</td><td style = \"text-align: right;\">2</td><td style = \"text-align: right;\">548</td><td style = \"text-align: right;\">83</td><td style = \"text-align: right;\">1</td><td style = \"text-align: right;\">83</td><td style = \"text-align: right;\">548</td><td style = \"text-align: right;\">1</td></tr><tr><td class = \"rowNumber\" style = \"font-weight: bold; text-align: right;\">496</td><td style = \"text-align: right;\">495</td><td style = \"text-align: right;\">1</td><td style = \"text-align: left;\">2021-01-15 09:08:24.275</td><td style = \"text-align: right;\">2</td><td style = \"text-align: right;\">548</td><td style = \"text-align: right;\">83</td><td style = \"text-align: right;\">1</td><td style = \"text-align: right;\">83</td><td style = \"text-align: right;\">548</td><td style = \"text-align: right;\">1</td></tr><tr><td class = \"rowNumber\" style = \"font-weight: bold; text-align: right;\">497</td><td style = \"text-align: right;\">496</td><td style = \"text-align: right;\">1</td><td style = \"text-align: left;\">2021-01-15 09:08:25.29</td><td style = \"text-align: right;\">2</td><td style = \"text-align: right;\">548</td><td style = \"text-align: right;\">83</td><td style = \"text-align: right;\">1</td><td style = \"text-align: right;\">83</td><td style = \"text-align: right;\">548</td><td style = \"text-align: right;\">1</td></tr><tr><td class = \"rowNumber\" style = \"font-weight: bold; text-align: right;\">498</td><td style = \"text-align: right;\">497</td><td style = \"text-align: right;\">1</td><td style = \"text-align: left;\">2021-01-15 09:08:26.306</td><td style = \"text-align: right;\">2</td><td style = \"text-align: right;\">548</td><td style = \"text-align: right;\">83</td><td style = \"text-align: right;\">1</td><td style = \"text-align: right;\">83</td><td style = \"text-align: right;\">548</td><td style = \"text-align: right;\">1</td></tr><tr><td class = \"rowNumber\" style = \"font-weight: bold; text-align: right;\">499</td><td style = \"text-align: right;\">498</td><td style = \"text-align: right;\">1</td><td style = \"text-align: left;\">2021-01-15 09:08:27.321</td><td style = \"text-align: right;\">2</td><td style = \"text-align: right;\">549</td><td style = \"text-align: right;\">83</td><td style = \"text-align: right;\">0</td><td style = \"text-align: right;\">83</td><td style = \"text-align: right;\">549</td><td style = \"text-align: right;\">0</td></tr><tr><td class = \"rowNumber\" style = \"font-weight: bold; text-align: right;\">500</td><td style = \"text-align: right;\">499</td><td style = \"text-align: right;\">1</td><td style = \"text-align: left;\">2021-01-15 09:08:28.336</td><td style = \"text-align: right;\">2</td><td style = \"text-align: right;\">549</td><td style = \"text-align: right;\">83</td><td style = \"text-align: right;\">0</td><td style = \"text-align: right;\">83</td><td style = \"text-align: right;\">549</td><td style = \"text-align: right;\">0</td></tr></tbody></table></div>"
      ],
      "text/latex": [
       "\\begin{tabular}{r|ccccccccc}\n",
       "\t& id & place & receive\\_time & sensor\\_num & in1 & out1 & state1 & in2 & \\\\\n",
       "\t\\hline\n",
       "\t& Int64 & Int64 & String31 & Int64 & Int64 & Int64 & Int64 & Int64 & \\\\\n",
       "\t\\hline\n",
       "\t1 & 0 & 1 & 2021-01-15 09:00:00.144 & 2 & 508 & 73 & 0 & 73 & $\\dots$ \\\\\n",
       "\t2 & 1 & 1 & 2021-01-15 09:00:01.146 & 2 & 508 & 73 & 0 & 73 & $\\dots$ \\\\\n",
       "\t3 & 2 & 1 & 2021-01-15 09:00:02.161 & 2 & 508 & 73 & 0 & 73 & $\\dots$ \\\\\n",
       "\t4 & 3 & 1 & 2021-01-15 09:00:03.176 & 2 & 508 & 73 & 0 & 73 & $\\dots$ \\\\\n",
       "\t5 & 4 & 1 & 2021-01-15 09:00:04.192 & 2 & 508 & 73 & 0 & 73 & $\\dots$ \\\\\n",
       "\t6 & 5 & 1 & 2021-01-15 09:00:05.207 & 2 & 508 & 73 & 0 & 73 & $\\dots$ \\\\\n",
       "\t7 & 6 & 1 & 2021-01-15 09:00:06.222 & 2 & 508 & 73 & 0 & 73 & $\\dots$ \\\\\n",
       "\t8 & 7 & 1 & 2021-01-15 09:00:07.238 & 2 & 508 & 73 & 0 & 73 & $\\dots$ \\\\\n",
       "\t9 & 8 & 1 & 2021-01-15 09:00:08.253 & 2 & 508 & 73 & 0 & 73 & $\\dots$ \\\\\n",
       "\t10 & 9 & 1 & 2021-01-15 09:00:09.269 & 2 & 508 & 73 & 0 & 73 & $\\dots$ \\\\\n",
       "\t11 & 10 & 1 & 2021-01-15 09:00:10.284 & 2 & 508 & 73 & 0 & 73 & $\\dots$ \\\\\n",
       "\t12 & 11 & 1 & 2021-01-15 09:00:11.3 & 2 & 508 & 73 & 0 & 73 & $\\dots$ \\\\\n",
       "\t13 & 12 & 1 & 2021-01-15 09:00:12.315 & 2 & 508 & 73 & 0 & 73 & $\\dots$ \\\\\n",
       "\t14 & 13 & 1 & 2021-01-15 09:00:13.33 & 2 & 508 & 73 & 0 & 73 & $\\dots$ \\\\\n",
       "\t15 & 14 & 1 & 2021-01-15 09:00:14.346 & 2 & 508 & 73 & 0 & 73 & $\\dots$ \\\\\n",
       "\t16 & 15 & 1 & 2021-01-15 09:00:15.347 & 2 & 508 & 73 & 0 & 73 & $\\dots$ \\\\\n",
       "\t17 & 16 & 1 & 2021-01-15 09:00:16.363 & 2 & 508 & 73 & 0 & 73 & $\\dots$ \\\\\n",
       "\t18 & 17 & 1 & 2021-01-15 09:00:17.378 & 2 & 508 & 73 & 0 & 73 & $\\dots$ \\\\\n",
       "\t19 & 18 & 1 & 2021-01-15 09:00:18.393 & 2 & 508 & 73 & 0 & 73 & $\\dots$ \\\\\n",
       "\t20 & 19 & 1 & 2021-01-15 09:00:19.409 & 2 & 508 & 73 & 0 & 73 & $\\dots$ \\\\\n",
       "\t21 & 20 & 1 & 2021-01-15 09:00:20.424 & 2 & 508 & 73 & 0 & 73 & $\\dots$ \\\\\n",
       "\t22 & 21 & 1 & 2021-01-15 09:00:21.44 & 2 & 508 & 73 & 0 & 73 & $\\dots$ \\\\\n",
       "\t23 & 22 & 1 & 2021-01-15 09:00:22.455 & 2 & 508 & 73 & 0 & 73 & $\\dots$ \\\\\n",
       "\t24 & 23 & 1 & 2021-01-15 09:00:23.47 & 2 & 508 & 73 & 0 & 73 & $\\dots$ \\\\\n",
       "\t$\\dots$ & $\\dots$ & $\\dots$ & $\\dots$ & $\\dots$ & $\\dots$ & $\\dots$ & $\\dots$ & $\\dots$ &  \\\\\n",
       "\\end{tabular}\n"
      ],
      "text/plain": [
       "\u001b[1m500×10 DataFrame\u001b[0m\n",
       "\u001b[1m Row \u001b[0m│\u001b[1m id    \u001b[0m\u001b[1m place \u001b[0m\u001b[1m receive_time            \u001b[0m\u001b[1m sensor_num \u001b[0m\u001b[1m in1   \u001b[0m\u001b[1m out1  \u001b[0m\u001b[1m state1\u001b[0m ⋯\n",
       "     │\u001b[90m Int64 \u001b[0m\u001b[90m Int64 \u001b[0m\u001b[90m String31                \u001b[0m\u001b[90m Int64      \u001b[0m\u001b[90m Int64 \u001b[0m\u001b[90m Int64 \u001b[0m\u001b[90m Int64 \u001b[0m ⋯\n",
       "─────┼──────────────────────────────────────────────────────────────────────────\n",
       "   1 │     0      1  2021-01-15 09:00:00.144           2    508     73       0 ⋯\n",
       "   2 │     1      1  2021-01-15 09:00:01.146           2    508     73       0\n",
       "   3 │     2      1  2021-01-15 09:00:02.161           2    508     73       0\n",
       "   4 │     3      1  2021-01-15 09:00:03.176           2    508     73       0\n",
       "   5 │     4      1  2021-01-15 09:00:04.192           2    508     73       0 ⋯\n",
       "   6 │     5      1  2021-01-15 09:00:05.207           2    508     73       0\n",
       "   7 │     6      1  2021-01-15 09:00:06.222           2    508     73       0\n",
       "   8 │     7      1  2021-01-15 09:00:07.238           2    508     73       0\n",
       "  ⋮  │   ⋮      ⋮               ⋮                 ⋮         ⋮      ⋮      ⋮    ⋱\n",
       " 494 │   493      1  2021-01-15 09:08:22.244           2    548     83       1 ⋯\n",
       " 495 │   494      1  2021-01-15 09:08:23.259           2    548     83       1\n",
       " 496 │   495      1  2021-01-15 09:08:24.275           2    548     83       1\n",
       " 497 │   496      1  2021-01-15 09:08:25.29            2    548     83       1\n",
       " 498 │   497      1  2021-01-15 09:08:26.306           2    548     83       1 ⋯\n",
       " 499 │   498      1  2021-01-15 09:08:27.321           2    549     83       0\n",
       " 500 │   499      1  2021-01-15 09:08:28.336           2    549     83       0\n",
       "\u001b[36m                                                  3 columns and 485 rows omitted\u001b[0m"
      ]
     },
     "metadata": {},
     "output_type": "display_data"
    }
   ],
   "source": [
    "df = CSV.read(ifn, DataFrame; limit=500)"
   ]
  },
  {
   "cell_type": "code",
   "execution_count": 12,
   "metadata": {},
   "outputs": [
    {
     "data": {
      "text/plain": [
       "CSV.Chunks(CSV.Context(false, \"../../data/chapter-8/data/person_count_out_0001_2021011509.csv\", [:id, :place, :receive_time, :sensor_num, :in1, :out1, :state1, :in2, :out2, :state2], 3627, 10, UInt8[0x69, 0x64, 0x2c, 0x70, 0x6c, 0x61, 0x63, 0x65, 0x2c, 0x72  …  0x35, 0x36, 0x2c, 0x37, 0x38, 0x32, 0x2c, 0x30, 0x0d, 0x0a], 67, 197550, 2, Parsers.Options(Parsers.Flags(spacedelim=false, tabdelim=false, stripquoted=false, stripwhitespace=false, checkquoted=true, checksentinel=true, checkdelim=true, ignorerepeated=false, ignoreemptylines=true), 0x2e, Parsers.Token(0x22), Parsers.Token(0x22), 0x22, Parsers.Token[], Parsers.Token(0x2c), Parsers.Token(\"\"), [\"true\", \"True\", \"TRUE\", \"T\", \"1\"], [\"false\", \"False\", \"FALSE\", \"F\", \"0\"], nothing, nothing), CSV.Column[CSV.Column(Int64, false, false, false, (0.2, 500), false, #undef, ReentrantLock(nothing, 0x00000000, 0x00, Base.GenericCondition{Base.Threads.SpinLock}(Base.IntrusiveLinkedList{Task}(nothing, nothing), Base.Threads.SpinLock(0)), (0, 140045575807832, 141733920768)), 140044228968560, 140045647262416, Parsers.Options(Parsers.Flags(spacedelim=false, tabdelim=false, stripquoted=false, stripwhitespace=false, checkquoted=true, checksentinel=true, checkdelim=true, ignorerepeated=false, ignoreemptylines=true), 0x2e, Parsers.Token(0x22), Parsers.Token(0x22), 0x22, Parsers.Token[], Parsers.Token(0x2c), Parsers.Token(\"\"), [\"true\", \"True\", \"TRUE\", \"T\", \"1\"], [\"false\", \"False\", \"FALSE\", \"F\", \"0\"], nothing, nothing)), CSV.Column(Int64, false, false, false, (0.2, 500), false, #undef, ReentrantLock(nothing, 0x00000000, 0x00, Base.GenericCondition{Base.Threads.SpinLock}(Base.IntrusiveLinkedList{Task}(nothing, nothing), Base.Threads.SpinLock(0)), (0, 0, 141733920768)), 140044228968944, 140045647263760, Parsers.Options(Parsers.Flags(spacedelim=false, tabdelim=false, stripquoted=false, stripwhitespace=false, checkquoted=true, checksentinel=true, checkdelim=true, ignorerepeated=false, ignoreemptylines=true), 0x2e, Parsers.Token(0x22), Parsers.Token(0x22), 0x22, Parsers.Token[], Parsers.Token(0x2c), Parsers.Token(\"\"), [\"true\", \"True\", \"TRUE\", \"T\", \"1\"], [\"false\", \"False\", \"FALSE\", \"F\", \"0\"], nothing, nothing)), CSV.Column(String31, false, false, false, (0.2, 500), false, #undef, ReentrantLock(nothing, 0x00000000, 0x00, Base.GenericCondition{Base.Threads.SpinLock}(Base.IntrusiveLinkedList{Task}(nothing, nothing), Base.Threads.SpinLock(0)), (0, 0, 141733920768)), 140044228969280, 140045647265040, Parsers.Options(Parsers.Flags(spacedelim=false, tabdelim=false, stripquoted=false, stripwhitespace=false, checkquoted=true, checksentinel=true, checkdelim=true, ignorerepeated=false, ignoreemptylines=true), 0x2e, Parsers.Token(0x22), Parsers.Token(0x22), 0x22, Parsers.Token[], Parsers.Token(0x2c), Parsers.Token(\"\"), [\"true\", \"True\", \"TRUE\", \"T\", \"1\"], [\"false\", \"False\", \"FALSE\", \"F\", \"0\"], nothing, nothing)), CSV.Column(Int64, false, false, false, (0.2, 500), false, #undef, ReentrantLock(nothing, 0x00000000, 0x00, Base.GenericCondition{Base.Threads.SpinLock}(Base.IntrusiveLinkedList{Task}(nothing, nothing), Base.Threads.SpinLock(0)), (0, 140045575807832, 141733920768)), 140044228969664, 140045672555056, Parsers.Options(Parsers.Flags(spacedelim=false, tabdelim=false, stripquoted=false, stripwhitespace=false, checkquoted=true, checksentinel=true, checkdelim=true, ignorerepeated=false, ignoreemptylines=true), 0x2e, Parsers.Token(0x22), Parsers.Token(0x22), 0x22, Parsers.Token[], Parsers.Token(0x2c), Parsers.Token(\"\"), [\"true\", \"True\", \"TRUE\", \"T\", \"1\"], [\"false\", \"False\", \"FALSE\", \"F\", \"0\"], nothing, nothing)), CSV.Column(Int64, false, false, false, (0.2, 500), false, #undef, ReentrantLock(nothing, 0x00000000, 0x00, Base.GenericCondition{Base.Threads.SpinLock}(Base.IntrusiveLinkedList{Task}(nothing, nothing), Base.Threads.SpinLock(0)), (0, 0, 141733920768)), 140044228970000, 140045672556304, Parsers.Options(Parsers.Flags(spacedelim=false, tabdelim=false, stripquoted=false, stripwhitespace=false, checkquoted=true, checksentinel=true, checkdelim=true, ignorerepeated=false, ignoreemptylines=true), 0x2e, Parsers.Token(0x22), Parsers.Token(0x22), 0x22, Parsers.Token[], Parsers.Token(0x2c), Parsers.Token(\"\"), [\"true\", \"True\", \"TRUE\", \"T\", \"1\"], [\"false\", \"False\", \"FALSE\", \"F\", \"0\"], nothing, nothing)), CSV.Column(Int64, false, false, false, (0.2, 500), false, #undef, ReentrantLock(nothing, 0x00000000, 0x00, Base.GenericCondition{Base.Threads.SpinLock}(Base.IntrusiveLinkedList{Task}(nothing, nothing), Base.Threads.SpinLock(0)), (0, 0, 141733920768)), 140045647379472, 140045647379344, Parsers.Options(Parsers.Flags(spacedelim=false, tabdelim=false, stripquoted=false, stripwhitespace=false, checkquoted=true, checksentinel=true, checkdelim=true, ignorerepeated=false, ignoreemptylines=true), 0x2e, Parsers.Token(0x22), Parsers.Token(0x22), 0x22, Parsers.Token[], Parsers.Token(0x2c), Parsers.Token(\"\"), [\"true\", \"True\", \"TRUE\", \"T\", \"1\"], [\"false\", \"False\", \"FALSE\", \"F\", \"0\"], nothing, nothing)), CSV.Column(Int64, false, false, false, (0.2, 500), false, #undef, ReentrantLock(nothing, 0x00000000, 0x00, Base.GenericCondition{Base.Threads.SpinLock}(Base.IntrusiveLinkedList{Task}(nothing, nothing), Base.Threads.SpinLock(0)), (0, 140045575807832, 141733920768)), 140045646944784, 140045676779792, Parsers.Options(Parsers.Flags(spacedelim=false, tabdelim=false, stripquoted=false, stripwhitespace=false, checkquoted=true, checksentinel=true, checkdelim=true, ignorerepeated=false, ignoreemptylines=true), 0x2e, Parsers.Token(0x22), Parsers.Token(0x22), 0x22, Parsers.Token[], Parsers.Token(0x2c), Parsers.Token(\"\"), [\"true\", \"True\", \"TRUE\", \"T\", \"1\"], [\"false\", \"False\", \"FALSE\", \"F\", \"0\"], nothing, nothing)), CSV.Column(Int64, false, false, false, (0.2, 500), false, #undef, ReentrantLock(nothing, 0x00000000, 0x00, Base.GenericCondition{Base.Threads.SpinLock}(Base.IntrusiveLinkedList{Task}(nothing, nothing), Base.Threads.SpinLock(0)), (0, 0, 141733920768)), 140045647846736, 140045647846608, Parsers.Options(Parsers.Flags(spacedelim=false, tabdelim=false, stripquoted=false, stripwhitespace=false, checkquoted=true, checksentinel=true, checkdelim=true, ignorerepeated=false, ignoreemptylines=true), 0x2e, Parsers.Token(0x22), Parsers.Token(0x22), 0x22, Parsers.Token[], Parsers.Token(0x2c), Parsers.Token(\"\"), [\"true\", \"True\", \"TRUE\", \"T\", \"1\"], [\"false\", \"False\", \"FALSE\", \"F\", \"0\"], nothing, nothing)), CSV.Column(Int64, false, false, false, (0.2, 500), false, #undef, ReentrantLock(nothing, 0x00000000, 0x00, Base.GenericCondition{Base.Threads.SpinLock}(Base.IntrusiveLinkedList{Task}(nothing, nothing), Base.Threads.SpinLock(0)), (0, 0, 141733920768)), 140045668907216, 140045668907088, Parsers.Options(Parsers.Flags(spacedelim=false, tabdelim=false, stripquoted=false, stripwhitespace=false, checkquoted=true, checksentinel=true, checkdelim=true, ignorerepeated=false, ignoreemptylines=true), 0x2e, Parsers.Token(0x22), Parsers.Token(0x22), 0x22, Parsers.Token[], Parsers.Token(0x2c), Parsers.Token(\"\"), [\"true\", \"True\", \"TRUE\", \"T\", \"1\"], [\"false\", \"False\", \"FALSE\", \"F\", \"0\"], nothing, nothing)), CSV.Column(Int64, false, false, false, (0.2, 500), false, #undef, ReentrantLock(nothing, 0x00000000, 0x00, Base.GenericCondition{Base.Threads.SpinLock}(Base.IntrusiveLinkedList{Task}(nothing, nothing), Base.Threads.SpinLock(0)), (0, 140045575807832, 141733920768)), 140045648152784, 140045648152656, Parsers.Options(Parsers.Flags(spacedelim=false, tabdelim=false, stripquoted=false, stripwhitespace=false, checkquoted=true, checksentinel=true, checkdelim=true, ignorerepeated=false, ignoreemptylines=true), 0x2e, Parsers.Token(0x22), Parsers.Token(0x22), 0x22, Parsers.Token[], Parsers.Token(0x2c), Parsers.Token(\"\"), [\"true\", \"True\", \"TRUE\", \"T\", \"1\"], [\"false\", \"False\", \"FALSE\", \"F\", \"0\"], nothing, nothing))], (0.2, 500), false, Tuple{}, Dict{Type, Type}(), InlineString, 9223372036854775807, true, 8, [67, 24800, 49479, 74149, 98847, 123541, 148226, 172915, 197550], false, false, 100, false, nothing, false, nothing))"
      ]
     },
     "metadata": {},
     "output_type": "display_data"
    }
   ],
   "source": [
    "chunks = CSV.Chunks(ifn;)"
   ]
  },
  {
   "cell_type": "code",
   "execution_count": 13,
   "metadata": {},
   "outputs": [],
   "source": [
    "df = DataFrame()\n",
    "for chunk_i in chunks\n",
    "    tmp_df = DataFrame(chunk_i)\n",
    "    append!(df, tmp_df)\n",
    "end"
   ]
  },
  {
   "cell_type": "code",
   "execution_count": 14,
   "metadata": {},
   "outputs": [
    {
     "data": {
      "text/html": [
       "<div><div style = \"float: left;\"><span>3540×10 DataFrame</span></div><div style = \"float: right;\"><span style = \"font-style: italic;\">3515 rows omitted</span></div><div style = \"clear: both;\"></div></div><div class = \"data-frame\" style = \"overflow-x: scroll;\"><table class = \"data-frame\" style = \"margin-bottom: 6px;\"><thead><tr class = \"header\"><th class = \"rowNumber\" style = \"font-weight: bold; text-align: right;\">Row</th><th style = \"text-align: left;\">id</th><th style = \"text-align: left;\">place</th><th style = \"text-align: left;\">receive_time</th><th style = \"text-align: left;\">sensor_num</th><th style = \"text-align: left;\">in1</th><th style = \"text-align: left;\">out1</th><th style = \"text-align: left;\">state1</th><th style = \"text-align: left;\">in2</th><th style = \"text-align: left;\">out2</th><th style = \"text-align: left;\">state2</th></tr><tr class = \"subheader headerLastRow\"><th class = \"rowNumber\" style = \"font-weight: bold; text-align: right;\"></th><th title = \"Int64\" style = \"text-align: left;\">Int64</th><th title = \"Int64\" style = \"text-align: left;\">Int64</th><th title = \"String31\" style = \"text-align: left;\">String31</th><th title = \"Int64\" style = \"text-align: left;\">Int64</th><th title = \"Int64\" style = \"text-align: left;\">Int64</th><th title = \"Int64\" style = \"text-align: left;\">Int64</th><th title = \"Int64\" style = \"text-align: left;\">Int64</th><th title = \"Int64\" style = \"text-align: left;\">Int64</th><th title = \"Int64\" style = \"text-align: left;\">Int64</th><th title = \"Int64\" style = \"text-align: left;\">Int64</th></tr></thead><tbody><tr><td class = \"rowNumber\" style = \"font-weight: bold; text-align: right;\">1</td><td style = \"text-align: right;\">0</td><td style = \"text-align: right;\">1</td><td style = \"text-align: left;\">2021-01-15 09:00:00.144</td><td style = \"text-align: right;\">2</td><td style = \"text-align: right;\">508</td><td style = \"text-align: right;\">73</td><td style = \"text-align: right;\">0</td><td style = \"text-align: right;\">73</td><td style = \"text-align: right;\">508</td><td style = \"text-align: right;\">0</td></tr><tr><td class = \"rowNumber\" style = \"font-weight: bold; text-align: right;\">2</td><td style = \"text-align: right;\">1</td><td style = \"text-align: right;\">1</td><td style = \"text-align: left;\">2021-01-15 09:00:01.146</td><td style = \"text-align: right;\">2</td><td style = \"text-align: right;\">508</td><td style = \"text-align: right;\">73</td><td style = \"text-align: right;\">0</td><td style = \"text-align: right;\">73</td><td style = \"text-align: right;\">508</td><td style = \"text-align: right;\">0</td></tr><tr><td class = \"rowNumber\" style = \"font-weight: bold; text-align: right;\">3</td><td style = \"text-align: right;\">2</td><td style = \"text-align: right;\">1</td><td style = \"text-align: left;\">2021-01-15 09:00:02.161</td><td style = \"text-align: right;\">2</td><td style = \"text-align: right;\">508</td><td style = \"text-align: right;\">73</td><td style = \"text-align: right;\">0</td><td style = \"text-align: right;\">73</td><td style = \"text-align: right;\">508</td><td style = \"text-align: right;\">0</td></tr><tr><td class = \"rowNumber\" style = \"font-weight: bold; text-align: right;\">4</td><td style = \"text-align: right;\">3</td><td style = \"text-align: right;\">1</td><td style = \"text-align: left;\">2021-01-15 09:00:03.176</td><td style = \"text-align: right;\">2</td><td style = \"text-align: right;\">508</td><td style = \"text-align: right;\">73</td><td style = \"text-align: right;\">0</td><td style = \"text-align: right;\">73</td><td style = \"text-align: right;\">508</td><td style = \"text-align: right;\">0</td></tr><tr><td class = \"rowNumber\" style = \"font-weight: bold; text-align: right;\">5</td><td style = \"text-align: right;\">4</td><td style = \"text-align: right;\">1</td><td style = \"text-align: left;\">2021-01-15 09:00:04.192</td><td style = \"text-align: right;\">2</td><td style = \"text-align: right;\">508</td><td style = \"text-align: right;\">73</td><td style = \"text-align: right;\">0</td><td style = \"text-align: right;\">73</td><td style = \"text-align: right;\">508</td><td style = \"text-align: right;\">0</td></tr><tr><td class = \"rowNumber\" style = \"font-weight: bold; text-align: right;\">6</td><td style = \"text-align: right;\">5</td><td style = \"text-align: right;\">1</td><td style = \"text-align: left;\">2021-01-15 09:00:05.207</td><td style = \"text-align: right;\">2</td><td style = \"text-align: right;\">508</td><td style = \"text-align: right;\">73</td><td style = \"text-align: right;\">0</td><td style = \"text-align: right;\">73</td><td style = \"text-align: right;\">508</td><td style = \"text-align: right;\">0</td></tr><tr><td class = \"rowNumber\" style = \"font-weight: bold; text-align: right;\">7</td><td style = \"text-align: right;\">6</td><td style = \"text-align: right;\">1</td><td style = \"text-align: left;\">2021-01-15 09:00:06.222</td><td style = \"text-align: right;\">2</td><td style = \"text-align: right;\">508</td><td style = \"text-align: right;\">73</td><td style = \"text-align: right;\">0</td><td style = \"text-align: right;\">73</td><td style = \"text-align: right;\">508</td><td style = \"text-align: right;\">0</td></tr><tr><td class = \"rowNumber\" style = \"font-weight: bold; text-align: right;\">8</td><td style = \"text-align: right;\">7</td><td style = \"text-align: right;\">1</td><td style = \"text-align: left;\">2021-01-15 09:00:07.238</td><td style = \"text-align: right;\">2</td><td style = \"text-align: right;\">508</td><td style = \"text-align: right;\">73</td><td style = \"text-align: right;\">0</td><td style = \"text-align: right;\">73</td><td style = \"text-align: right;\">508</td><td style = \"text-align: right;\">0</td></tr><tr><td class = \"rowNumber\" style = \"font-weight: bold; text-align: right;\">9</td><td style = \"text-align: right;\">8</td><td style = \"text-align: right;\">1</td><td style = \"text-align: left;\">2021-01-15 09:00:08.253</td><td style = \"text-align: right;\">2</td><td style = \"text-align: right;\">508</td><td style = \"text-align: right;\">73</td><td style = \"text-align: right;\">0</td><td style = \"text-align: right;\">73</td><td style = \"text-align: right;\">508</td><td style = \"text-align: right;\">0</td></tr><tr><td class = \"rowNumber\" style = \"font-weight: bold; text-align: right;\">10</td><td style = \"text-align: right;\">9</td><td style = \"text-align: right;\">1</td><td style = \"text-align: left;\">2021-01-15 09:00:09.269</td><td style = \"text-align: right;\">2</td><td style = \"text-align: right;\">508</td><td style = \"text-align: right;\">73</td><td style = \"text-align: right;\">0</td><td style = \"text-align: right;\">73</td><td style = \"text-align: right;\">508</td><td style = \"text-align: right;\">0</td></tr><tr><td class = \"rowNumber\" style = \"font-weight: bold; text-align: right;\">11</td><td style = \"text-align: right;\">10</td><td style = \"text-align: right;\">1</td><td style = \"text-align: left;\">2021-01-15 09:00:10.284</td><td style = \"text-align: right;\">2</td><td style = \"text-align: right;\">508</td><td style = \"text-align: right;\">73</td><td style = \"text-align: right;\">0</td><td style = \"text-align: right;\">73</td><td style = \"text-align: right;\">508</td><td style = \"text-align: right;\">0</td></tr><tr><td class = \"rowNumber\" style = \"font-weight: bold; text-align: right;\">12</td><td style = \"text-align: right;\">11</td><td style = \"text-align: right;\">1</td><td style = \"text-align: left;\">2021-01-15 09:00:11.3</td><td style = \"text-align: right;\">2</td><td style = \"text-align: right;\">508</td><td style = \"text-align: right;\">73</td><td style = \"text-align: right;\">0</td><td style = \"text-align: right;\">73</td><td style = \"text-align: right;\">508</td><td style = \"text-align: right;\">0</td></tr><tr><td class = \"rowNumber\" style = \"font-weight: bold; text-align: right;\">13</td><td style = \"text-align: right;\">12</td><td style = \"text-align: right;\">1</td><td style = \"text-align: left;\">2021-01-15 09:00:12.315</td><td style = \"text-align: right;\">2</td><td style = \"text-align: right;\">508</td><td style = \"text-align: right;\">73</td><td style = \"text-align: right;\">0</td><td style = \"text-align: right;\">73</td><td style = \"text-align: right;\">508</td><td style = \"text-align: right;\">0</td></tr><tr><td style = \"text-align: right;\">&vellip;</td><td style = \"text-align: right;\">&vellip;</td><td style = \"text-align: right;\">&vellip;</td><td style = \"text-align: right;\">&vellip;</td><td style = \"text-align: right;\">&vellip;</td><td style = \"text-align: right;\">&vellip;</td><td style = \"text-align: right;\">&vellip;</td><td style = \"text-align: right;\">&vellip;</td><td style = \"text-align: right;\">&vellip;</td><td style = \"text-align: right;\">&vellip;</td><td style = \"text-align: right;\">&vellip;</td></tr><tr><td class = \"rowNumber\" style = \"font-weight: bold; text-align: right;\">3529</td><td style = \"text-align: right;\">3528</td><td style = \"text-align: right;\">1</td><td style = \"text-align: left;\">2021-01-15 09:59:47.947</td><td style = \"text-align: right;\">2</td><td style = \"text-align: right;\">782</td><td style = \"text-align: right;\">156</td><td style = \"text-align: right;\">0</td><td style = \"text-align: right;\">156</td><td style = \"text-align: right;\">782</td><td style = \"text-align: right;\">0</td></tr><tr><td class = \"rowNumber\" style = \"font-weight: bold; text-align: right;\">3530</td><td style = \"text-align: right;\">3529</td><td style = \"text-align: right;\">1</td><td style = \"text-align: left;\">2021-01-15 09:59:48.962</td><td style = \"text-align: right;\">2</td><td style = \"text-align: right;\">782</td><td style = \"text-align: right;\">156</td><td style = \"text-align: right;\">0</td><td style = \"text-align: right;\">156</td><td style = \"text-align: right;\">782</td><td style = \"text-align: right;\">0</td></tr><tr><td class = \"rowNumber\" style = \"font-weight: bold; text-align: right;\">3531</td><td style = \"text-align: right;\">3530</td><td style = \"text-align: right;\">1</td><td style = \"text-align: left;\">2021-01-15 09:59:49.978</td><td style = \"text-align: right;\">2</td><td style = \"text-align: right;\">782</td><td style = \"text-align: right;\">156</td><td style = \"text-align: right;\">0</td><td style = \"text-align: right;\">156</td><td style = \"text-align: right;\">782</td><td style = \"text-align: right;\">0</td></tr><tr><td class = \"rowNumber\" style = \"font-weight: bold; text-align: right;\">3532</td><td style = \"text-align: right;\">3531</td><td style = \"text-align: right;\">1</td><td style = \"text-align: left;\">2021-01-15 09:59:50.993</td><td style = \"text-align: right;\">2</td><td style = \"text-align: right;\">782</td><td style = \"text-align: right;\">156</td><td style = \"text-align: right;\">0</td><td style = \"text-align: right;\">156</td><td style = \"text-align: right;\">782</td><td style = \"text-align: right;\">0</td></tr><tr><td class = \"rowNumber\" style = \"font-weight: bold; text-align: right;\">3533</td><td style = \"text-align: right;\">3532</td><td style = \"text-align: right;\">1</td><td style = \"text-align: left;\">2021-01-15 09:59:52.008</td><td style = \"text-align: right;\">2</td><td style = \"text-align: right;\">782</td><td style = \"text-align: right;\">156</td><td style = \"text-align: right;\">0</td><td style = \"text-align: right;\">156</td><td style = \"text-align: right;\">782</td><td style = \"text-align: right;\">0</td></tr><tr><td class = \"rowNumber\" style = \"font-weight: bold; text-align: right;\">3534</td><td style = \"text-align: right;\">3533</td><td style = \"text-align: right;\">1</td><td style = \"text-align: left;\">2021-01-15 09:59:53.024</td><td style = \"text-align: right;\">2</td><td style = \"text-align: right;\">782</td><td style = \"text-align: right;\">156</td><td style = \"text-align: right;\">0</td><td style = \"text-align: right;\">156</td><td style = \"text-align: right;\">782</td><td style = \"text-align: right;\">0</td></tr><tr><td class = \"rowNumber\" style = \"font-weight: bold; text-align: right;\">3535</td><td style = \"text-align: right;\">3534</td><td style = \"text-align: right;\">1</td><td style = \"text-align: left;\">2021-01-15 09:59:54.039</td><td style = \"text-align: right;\">2</td><td style = \"text-align: right;\">782</td><td style = \"text-align: right;\">156</td><td style = \"text-align: right;\">0</td><td style = \"text-align: right;\">156</td><td style = \"text-align: right;\">782</td><td style = \"text-align: right;\">0</td></tr><tr><td class = \"rowNumber\" style = \"font-weight: bold; text-align: right;\">3536</td><td style = \"text-align: right;\">3535</td><td style = \"text-align: right;\">1</td><td style = \"text-align: left;\">2021-01-15 09:59:55.054</td><td style = \"text-align: right;\">2</td><td style = \"text-align: right;\">782</td><td style = \"text-align: right;\">156</td><td style = \"text-align: right;\">0</td><td style = \"text-align: right;\">156</td><td style = \"text-align: right;\">782</td><td style = \"text-align: right;\">0</td></tr><tr><td class = \"rowNumber\" style = \"font-weight: bold; text-align: right;\">3537</td><td style = \"text-align: right;\">3536</td><td style = \"text-align: right;\">1</td><td style = \"text-align: left;\">2021-01-15 09:59:56.07</td><td style = \"text-align: right;\">2</td><td style = \"text-align: right;\">782</td><td style = \"text-align: right;\">156</td><td style = \"text-align: right;\">0</td><td style = \"text-align: right;\">156</td><td style = \"text-align: right;\">782</td><td style = \"text-align: right;\">0</td></tr><tr><td class = \"rowNumber\" style = \"font-weight: bold; text-align: right;\">3538</td><td style = \"text-align: right;\">3537</td><td style = \"text-align: right;\">1</td><td style = \"text-align: left;\">2021-01-15 09:59:57.085</td><td style = \"text-align: right;\">2</td><td style = \"text-align: right;\">782</td><td style = \"text-align: right;\">156</td><td style = \"text-align: right;\">0</td><td style = \"text-align: right;\">156</td><td style = \"text-align: right;\">782</td><td style = \"text-align: right;\">0</td></tr><tr><td class = \"rowNumber\" style = \"font-weight: bold; text-align: right;\">3539</td><td style = \"text-align: right;\">3538</td><td style = \"text-align: right;\">1</td><td style = \"text-align: left;\">2021-01-15 09:59:58.101</td><td style = \"text-align: right;\">2</td><td style = \"text-align: right;\">782</td><td style = \"text-align: right;\">156</td><td style = \"text-align: right;\">0</td><td style = \"text-align: right;\">156</td><td style = \"text-align: right;\">782</td><td style = \"text-align: right;\">0</td></tr><tr><td class = \"rowNumber\" style = \"font-weight: bold; text-align: right;\">3540</td><td style = \"text-align: right;\">3539</td><td style = \"text-align: right;\">1</td><td style = \"text-align: left;\">2021-01-15 09:59:59.116</td><td style = \"text-align: right;\">2</td><td style = \"text-align: right;\">782</td><td style = \"text-align: right;\">156</td><td style = \"text-align: right;\">0</td><td style = \"text-align: right;\">156</td><td style = \"text-align: right;\">782</td><td style = \"text-align: right;\">0</td></tr></tbody></table></div>"
      ],
      "text/latex": [
       "\\begin{tabular}{r|ccccccccc}\n",
       "\t& id & place & receive\\_time & sensor\\_num & in1 & out1 & state1 & in2 & \\\\\n",
       "\t\\hline\n",
       "\t& Int64 & Int64 & String31 & Int64 & Int64 & Int64 & Int64 & Int64 & \\\\\n",
       "\t\\hline\n",
       "\t1 & 0 & 1 & 2021-01-15 09:00:00.144 & 2 & 508 & 73 & 0 & 73 & $\\dots$ \\\\\n",
       "\t2 & 1 & 1 & 2021-01-15 09:00:01.146 & 2 & 508 & 73 & 0 & 73 & $\\dots$ \\\\\n",
       "\t3 & 2 & 1 & 2021-01-15 09:00:02.161 & 2 & 508 & 73 & 0 & 73 & $\\dots$ \\\\\n",
       "\t4 & 3 & 1 & 2021-01-15 09:00:03.176 & 2 & 508 & 73 & 0 & 73 & $\\dots$ \\\\\n",
       "\t5 & 4 & 1 & 2021-01-15 09:00:04.192 & 2 & 508 & 73 & 0 & 73 & $\\dots$ \\\\\n",
       "\t6 & 5 & 1 & 2021-01-15 09:00:05.207 & 2 & 508 & 73 & 0 & 73 & $\\dots$ \\\\\n",
       "\t7 & 6 & 1 & 2021-01-15 09:00:06.222 & 2 & 508 & 73 & 0 & 73 & $\\dots$ \\\\\n",
       "\t8 & 7 & 1 & 2021-01-15 09:00:07.238 & 2 & 508 & 73 & 0 & 73 & $\\dots$ \\\\\n",
       "\t9 & 8 & 1 & 2021-01-15 09:00:08.253 & 2 & 508 & 73 & 0 & 73 & $\\dots$ \\\\\n",
       "\t10 & 9 & 1 & 2021-01-15 09:00:09.269 & 2 & 508 & 73 & 0 & 73 & $\\dots$ \\\\\n",
       "\t11 & 10 & 1 & 2021-01-15 09:00:10.284 & 2 & 508 & 73 & 0 & 73 & $\\dots$ \\\\\n",
       "\t12 & 11 & 1 & 2021-01-15 09:00:11.3 & 2 & 508 & 73 & 0 & 73 & $\\dots$ \\\\\n",
       "\t13 & 12 & 1 & 2021-01-15 09:00:12.315 & 2 & 508 & 73 & 0 & 73 & $\\dots$ \\\\\n",
       "\t14 & 13 & 1 & 2021-01-15 09:00:13.33 & 2 & 508 & 73 & 0 & 73 & $\\dots$ \\\\\n",
       "\t15 & 14 & 1 & 2021-01-15 09:00:14.346 & 2 & 508 & 73 & 0 & 73 & $\\dots$ \\\\\n",
       "\t16 & 15 & 1 & 2021-01-15 09:00:15.347 & 2 & 508 & 73 & 0 & 73 & $\\dots$ \\\\\n",
       "\t17 & 16 & 1 & 2021-01-15 09:00:16.363 & 2 & 508 & 73 & 0 & 73 & $\\dots$ \\\\\n",
       "\t18 & 17 & 1 & 2021-01-15 09:00:17.378 & 2 & 508 & 73 & 0 & 73 & $\\dots$ \\\\\n",
       "\t19 & 18 & 1 & 2021-01-15 09:00:18.393 & 2 & 508 & 73 & 0 & 73 & $\\dots$ \\\\\n",
       "\t20 & 19 & 1 & 2021-01-15 09:00:19.409 & 2 & 508 & 73 & 0 & 73 & $\\dots$ \\\\\n",
       "\t21 & 20 & 1 & 2021-01-15 09:00:20.424 & 2 & 508 & 73 & 0 & 73 & $\\dots$ \\\\\n",
       "\t22 & 21 & 1 & 2021-01-15 09:00:21.44 & 2 & 508 & 73 & 0 & 73 & $\\dots$ \\\\\n",
       "\t23 & 22 & 1 & 2021-01-15 09:00:22.455 & 2 & 508 & 73 & 0 & 73 & $\\dots$ \\\\\n",
       "\t24 & 23 & 1 & 2021-01-15 09:00:23.47 & 2 & 508 & 73 & 0 & 73 & $\\dots$ \\\\\n",
       "\t$\\dots$ & $\\dots$ & $\\dots$ & $\\dots$ & $\\dots$ & $\\dots$ & $\\dots$ & $\\dots$ & $\\dots$ &  \\\\\n",
       "\\end{tabular}\n"
      ],
      "text/plain": [
       "\u001b[1m3540×10 DataFrame\u001b[0m\n",
       "\u001b[1m  Row \u001b[0m│\u001b[1m id    \u001b[0m\u001b[1m place \u001b[0m\u001b[1m receive_time            \u001b[0m\u001b[1m sensor_num \u001b[0m\u001b[1m in1   \u001b[0m\u001b[1m out1  \u001b[0m\u001b[1m state\u001b[0m ⋯\n",
       "      │\u001b[90m Int64 \u001b[0m\u001b[90m Int64 \u001b[0m\u001b[90m String31                \u001b[0m\u001b[90m Int64      \u001b[0m\u001b[90m Int64 \u001b[0m\u001b[90m Int64 \u001b[0m\u001b[90m Int64\u001b[0m ⋯\n",
       "──────┼─────────────────────────────────────────────────────────────────────────\n",
       "    1 │     0      1  2021-01-15 09:00:00.144           2    508     73        ⋯\n",
       "    2 │     1      1  2021-01-15 09:00:01.146           2    508     73\n",
       "    3 │     2      1  2021-01-15 09:00:02.161           2    508     73\n",
       "    4 │     3      1  2021-01-15 09:00:03.176           2    508     73\n",
       "    5 │     4      1  2021-01-15 09:00:04.192           2    508     73        ⋯\n",
       "    6 │     5      1  2021-01-15 09:00:05.207           2    508     73\n",
       "    7 │     6      1  2021-01-15 09:00:06.222           2    508     73\n",
       "    8 │     7      1  2021-01-15 09:00:07.238           2    508     73\n",
       "  ⋮   │   ⋮      ⋮               ⋮                 ⋮         ⋮      ⋮      ⋮   ⋱\n",
       " 3534 │  3533      1  2021-01-15 09:59:53.024           2    782    156        ⋯\n",
       " 3535 │  3534      1  2021-01-15 09:59:54.039           2    782    156\n",
       " 3536 │  3535      1  2021-01-15 09:59:55.054           2    782    156\n",
       " 3537 │  3536      1  2021-01-15 09:59:56.07            2    782    156\n",
       " 3538 │  3537      1  2021-01-15 09:59:57.085           2    782    156        ⋯\n",
       " 3539 │  3538      1  2021-01-15 09:59:58.101           2    782    156\n",
       " 3540 │  3539      1  2021-01-15 09:59:59.116           2    782    156\n",
       "\u001b[36m                                                 4 columns and 3525 rows omitted\u001b[0m"
      ]
     },
     "metadata": {},
     "output_type": "display_data"
    }
   ],
   "source": [
    "df"
   ]
  },
  {
   "attachments": {},
   "cell_type": "markdown",
   "metadata": {},
   "source": [
    "## 92"
   ]
  },
  {
   "cell_type": "code",
   "execution_count": 57,
   "metadata": {},
   "outputs": [
    {
     "data": {
      "text/html": [
       "<div><div style = \"float: left;\"><span>3×2 DataFrame</span></div><div style = \"clear: both;\"></div></div><div class = \"data-frame\" style = \"overflow-x: scroll;\"><table class = \"data-frame\" style = \"margin-bottom: 6px;\"><thead><tr class = \"header\"><th class = \"rowNumber\" style = \"font-weight: bold; text-align: right;\">Row</th><th style = \"text-align: left;\">id</th><th style = \"text-align: left;\">value</th></tr><tr class = \"subheader headerLastRow\"><th class = \"rowNumber\" style = \"font-weight: bold; text-align: right;\"></th><th title = \"Any\" style = \"text-align: left;\">Any</th><th title = \"Any\" style = \"text-align: left;\">Any</th></tr></thead><tbody><tr><td class = \"rowNumber\" style = \"font-weight: bold; text-align: right;\">1</td><td style = \"text-align: left;\">2</td><td style = \"text-align: left;\">10</td></tr><tr><td class = \"rowNumber\" style = \"font-weight: bold; text-align: right;\">2</td><td style = \"text-align: left;\">1</td><td style = \"text-align: left;\">1</td></tr><tr><td class = \"rowNumber\" style = \"font-weight: bold; text-align: right;\">3</td><td style = \"text-align: left;\">3</td><td style = \"text-align: left;\">100</td></tr></tbody></table></div>"
      ],
      "text/latex": [
       "\\begin{tabular}{r|cc}\n",
       "\t& id & value\\\\\n",
       "\t\\hline\n",
       "\t& Any & Any\\\\\n",
       "\t\\hline\n",
       "\t1 & 2 & 10 \\\\\n",
       "\t2 & 1 & 1 \\\\\n",
       "\t3 & 3 & 100 \\\\\n",
       "\\end{tabular}\n"
      ],
      "text/plain": [
       "\u001b[1m3×2 DataFrame\u001b[0m\n",
       "\u001b[1m Row \u001b[0m│\u001b[1m id  \u001b[0m\u001b[1m value \u001b[0m\n",
       "     │\u001b[90m Any \u001b[0m\u001b[90m Any   \u001b[0m\n",
       "─────┼────────────\n",
       "   1 │ 2    10\n",
       "   2 │ 1    1\n",
       "   3 │ 3    100"
      ]
     },
     "metadata": {},
     "output_type": "display_data"
    }
   ],
   "source": [
    "ifn = \"../../data/chapter-8/data/column_oriented.json\"\n",
    "if !isfile(ifn)\n",
    "    throw(error())\n",
    "end\n",
    "d = JSON.parse(read(ifn, String))\n",
    "nd = Dict()\n",
    "for k in keys(d)\n",
    "    l = []\n",
    "    for i in values(d[k])\n",
    "        append!(l, i)\n",
    "    end\n",
    "    nd[k] = l\n",
    "end\n",
    "DataFrame(nd)"
   ]
  },
  {
   "cell_type": "code",
   "execution_count": 68,
   "metadata": {},
   "outputs": [
    {
     "data": {
      "text/html": [
       "<div><div style = \"float: left;\"><span>3×2 DataFrame</span></div><div style = \"clear: both;\"></div></div><div class = \"data-frame\" style = \"overflow-x: scroll;\"><table class = \"data-frame\" style = \"margin-bottom: 6px;\"><thead><tr class = \"header\"><th class = \"rowNumber\" style = \"font-weight: bold; text-align: right;\">Row</th><th style = \"text-align: left;\">id</th><th style = \"text-align: left;\">value</th></tr><tr class = \"subheader headerLastRow\"><th class = \"rowNumber\" style = \"font-weight: bold; text-align: right;\"></th><th title = \"Int64\" style = \"text-align: left;\">Int64</th><th title = \"Int64\" style = \"text-align: left;\">Int64</th></tr></thead><tbody><tr><td class = \"rowNumber\" style = \"font-weight: bold; text-align: right;\">1</td><td style = \"text-align: right;\">2</td><td style = \"text-align: right;\">10</td></tr><tr><td class = \"rowNumber\" style = \"font-weight: bold; text-align: right;\">2</td><td style = \"text-align: right;\">1</td><td style = \"text-align: right;\">1</td></tr><tr><td class = \"rowNumber\" style = \"font-weight: bold; text-align: right;\">3</td><td style = \"text-align: right;\">3</td><td style = \"text-align: right;\">100</td></tr></tbody></table></div>"
      ],
      "text/latex": [
       "\\begin{tabular}{r|cc}\n",
       "\t& id & value\\\\\n",
       "\t\\hline\n",
       "\t& Int64 & Int64\\\\\n",
       "\t\\hline\n",
       "\t1 & 2 & 10 \\\\\n",
       "\t2 & 1 & 1 \\\\\n",
       "\t3 & 3 & 100 \\\\\n",
       "\\end{tabular}\n"
      ],
      "text/plain": [
       "\u001b[1m3×2 DataFrame\u001b[0m\n",
       "\u001b[1m Row \u001b[0m│\u001b[1m id    \u001b[0m\u001b[1m value \u001b[0m\n",
       "     │\u001b[90m Int64 \u001b[0m\u001b[90m Int64 \u001b[0m\n",
       "─────┼──────────────\n",
       "   1 │     2     10\n",
       "   2 │     1      1\n",
       "   3 │     3    100"
      ]
     },
     "metadata": {},
     "output_type": "display_data"
    }
   ],
   "source": [
    "ifn = \"../../data/chapter-8/data/index_oriented.json\"\n",
    "if !isfile(ifn)\n",
    "    throw(error())\n",
    "end\n",
    "d = JSON.parse(read(ifn, String))\n",
    "df = DataFrame()\n",
    "for k in keys(d)\n",
    "    append!(df, DataFrame(d[k]))\n",
    "end\n",
    "df"
   ]
  },
  {
   "cell_type": "code",
   "execution_count": 74,
   "metadata": {},
   "outputs": [
    {
     "data": {
      "text/html": [
       "<div><div style = \"float: left;\"><span>3×2 DataFrame</span></div><div style = \"clear: both;\"></div></div><div class = \"data-frame\" style = \"overflow-x: scroll;\"><table class = \"data-frame\" style = \"margin-bottom: 6px;\"><thead><tr class = \"header\"><th class = \"rowNumber\" style = \"font-weight: bold; text-align: right;\">Row</th><th style = \"text-align: left;\">id</th><th style = \"text-align: left;\">value</th></tr><tr class = \"subheader headerLastRow\"><th class = \"rowNumber\" style = \"font-weight: bold; text-align: right;\"></th><th title = \"Int64\" style = \"text-align: left;\">Int64</th><th title = \"Int64\" style = \"text-align: left;\">Int64</th></tr></thead><tbody><tr><td class = \"rowNumber\" style = \"font-weight: bold; text-align: right;\">1</td><td style = \"text-align: right;\">1</td><td style = \"text-align: right;\">1</td></tr><tr><td class = \"rowNumber\" style = \"font-weight: bold; text-align: right;\">2</td><td style = \"text-align: right;\">2</td><td style = \"text-align: right;\">10</td></tr><tr><td class = \"rowNumber\" style = \"font-weight: bold; text-align: right;\">3</td><td style = \"text-align: right;\">3</td><td style = \"text-align: right;\">100</td></tr></tbody></table></div>"
      ],
      "text/latex": [
       "\\begin{tabular}{r|cc}\n",
       "\t& id & value\\\\\n",
       "\t\\hline\n",
       "\t& Int64 & Int64\\\\\n",
       "\t\\hline\n",
       "\t1 & 1 & 1 \\\\\n",
       "\t2 & 2 & 10 \\\\\n",
       "\t3 & 3 & 100 \\\\\n",
       "\\end{tabular}\n"
      ],
      "text/plain": [
       "\u001b[1m3×2 DataFrame\u001b[0m\n",
       "\u001b[1m Row \u001b[0m│\u001b[1m id    \u001b[0m\u001b[1m value \u001b[0m\n",
       "     │\u001b[90m Int64 \u001b[0m\u001b[90m Int64 \u001b[0m\n",
       "─────┼──────────────\n",
       "   1 │     1      1\n",
       "   2 │     2     10\n",
       "   3 │     3    100"
      ]
     },
     "metadata": {},
     "output_type": "display_data"
    }
   ],
   "source": [
    "ifn = \"../../data/chapter-8/data/table_oriented.json\"\n",
    "if !isfile(ifn)\n",
    "    throw(error())\n",
    "end\n",
    "d = JSON.parse(read(ifn, String))\n",
    "df = DataFrame(d[\"data\"])\n",
    "select(df, Not(:index))"
   ]
  },
  {
   "attachments": {},
   "cell_type": "markdown",
   "metadata": {},
   "source": [
    "## 93"
   ]
  },
  {
   "cell_type": "code",
   "execution_count": 86,
   "metadata": {},
   "outputs": [
    {
     "data": {
      "text/plain": [
       "HTTP.Messages.Response:\n",
       "\"\"\"\n",
       "HTTP/1.1 200 OK\r\n",
       "access-control-allow-credentials: true\r\n",
       "access-control-allow-origin: *\r\n",
       "cache-control: max-age=0, private, must-revalidate\r\n",
       "content-encoding: gzip\r\n",
       "content-type: application/json; charset=utf-8\r\n",
       "cross-origin-window-policy: deny\r\n",
       "date: Fri, 10 Mar 2023 10:10:49 GMT\r\n",
       "server: Fly/90d459b3 (2023-03-07)\r\n",
       "x-content-type-options: nosniff\r\n",
       "x-download-options: noopen\r\n",
       "x-frame-options: SAMEORIGIN\r\n",
       "x-permitted-cross-domain-policies: none\r\n",
       "x-request-id: F0sHD8w4OTwPiI2fKEoh\r\n",
       "x-runtime: 327µs\r\n",
       "x-xss-protection: 1; mode=block\r\n",
       "transfer-encoding: chunked\r\n",
       "via: 1.1 fly.io\r\n",
       "fly-request-id: 01GV5G0XHXBWH5J3DF8MXCT331-nrt\r\n",
       "\r\n",
       "{\"abbreviation\":\"JST\",\"client_ip\":\"133.106.39.29\",\"datetime\":\"2023-03-10T19:10:50.558530+09:00\",\"day_of_week\":5,\"day_of_year\":69,\"dst\":false,\"dst_from\":null,\"dst_offset\":0,\"dst_until\":null,\"raw_offset\":32400,\"timezone\":\"Asia/Tokyo\",\"unixtime\":1678443050,\"utc_datetime\":\"2023-03-10T10:10:50.558530+00:00\",\"utc_offset\":\"+09:00\",\"week_number\":10}\"\"\""
      ]
     },
     "metadata": {},
     "output_type": "display_data"
    }
   ],
   "source": [
    "response = HTTP.get(\"https://worldtimeapi.org/api/timezone/Asia/Tokyo\")"
   ]
  },
  {
   "cell_type": "code",
   "execution_count": 87,
   "metadata": {},
   "outputs": [
    {
     "data": {
      "text/plain": [
       "Dict{String, Any} with 15 entries:\n",
       "  \"unixtime\"     => 1678443050\n",
       "  \"utc_offset\"   => \"+09:00\"\n",
       "  \"timezone\"     => \"Asia/Tokyo\"\n",
       "  \"dst_until\"    => nothing\n",
       "  \"raw_offset\"   => 32400\n",
       "  \"dst_from\"     => nothing\n",
       "  \"datetime\"     => \"2023-03-10T19:10:50.558530+09:00\"\n",
       "  \"client_ip\"    => \"133.106.39.29\"\n",
       "  \"dst\"          => false\n",
       "  \"abbreviation\" => \"JST\"\n",
       "  \"day_of_week\"  => 5\n",
       "  \"dst_offset\"   => 0\n",
       "  \"utc_datetime\" => \"2023-03-10T10:10:50.558530+00:00\"\n",
       "  \"day_of_year\"  => 69\n",
       "  \"week_number\"  => 10"
      ]
     },
     "metadata": {},
     "output_type": "display_data"
    }
   ],
   "source": [
    "j = JSON.parse(String(response.body))"
   ]
  },
  {
   "cell_type": "code",
   "execution_count": 88,
   "metadata": {},
   "outputs": [
    {
     "data": {
      "text/html": [
       "<div><div style = \"float: left;\"><span>1×15 DataFrame</span></div><div style = \"clear: both;\"></div></div><div class = \"data-frame\" style = \"overflow-x: scroll;\"><table class = \"data-frame\" style = \"margin-bottom: 6px;\"><thead><tr class = \"header\"><th class = \"rowNumber\" style = \"font-weight: bold; text-align: right;\">Row</th><th style = \"text-align: left;\">abbreviation</th><th style = \"text-align: left;\">client_ip</th><th style = \"text-align: left;\">datetime</th><th style = \"text-align: left;\">day_of_week</th><th style = \"text-align: left;\">day_of_year</th><th style = \"text-align: left;\">dst</th><th style = \"text-align: left;\">dst_from</th><th style = \"text-align: left;\">dst_offset</th><th style = \"text-align: left;\">dst_until</th><th style = \"text-align: left;\">raw_offset</th><th style = \"text-align: left;\">timezone</th><th style = \"text-align: left;\">unixtime</th><th style = \"text-align: left;\">utc_datetime</th><th style = \"text-align: left;\">utc_offset</th><th style = \"text-align: left;\">week_number</th></tr><tr class = \"subheader headerLastRow\"><th class = \"rowNumber\" style = \"font-weight: bold; text-align: right;\"></th><th title = \"String\" style = \"text-align: left;\">String</th><th title = \"String\" style = \"text-align: left;\">String</th><th title = \"String\" style = \"text-align: left;\">String</th><th title = \"Int64\" style = \"text-align: left;\">Int64</th><th title = \"Int64\" style = \"text-align: left;\">Int64</th><th title = \"Bool\" style = \"text-align: left;\">Bool</th><th title = \"Nothing\" style = \"text-align: left;\">Nothing</th><th title = \"Int64\" style = \"text-align: left;\">Int64</th><th title = \"Nothing\" style = \"text-align: left;\">Nothing</th><th title = \"Int64\" style = \"text-align: left;\">Int64</th><th title = \"String\" style = \"text-align: left;\">String</th><th title = \"Int64\" style = \"text-align: left;\">Int64</th><th title = \"String\" style = \"text-align: left;\">String</th><th title = \"String\" style = \"text-align: left;\">String</th><th title = \"Int64\" style = \"text-align: left;\">Int64</th></tr></thead><tbody><tr><td class = \"rowNumber\" style = \"font-weight: bold; text-align: right;\">1</td><td style = \"text-align: left;\">JST</td><td style = \"text-align: left;\">133.106.39.29</td><td style = \"text-align: left;\">2023-03-10T19:10:50.558530+09:00</td><td style = \"text-align: right;\">5</td><td style = \"text-align: right;\">69</td><td style = \"text-align: right;\">false</td><td style = \"font-style: italic; text-align: left;\"></td><td style = \"text-align: right;\">0</td><td style = \"font-style: italic; text-align: left;\"></td><td style = \"text-align: right;\">32400</td><td style = \"text-align: left;\">Asia/Tokyo</td><td style = \"text-align: right;\">1678443050</td><td style = \"text-align: left;\">2023-03-10T10:10:50.558530+00:00</td><td style = \"text-align: left;\">+09:00</td><td style = \"text-align: right;\">10</td></tr></tbody></table></div>"
      ],
      "text/latex": [
       "\\begin{tabular}{r|cccccc}\n",
       "\t& abbreviation & client\\_ip & datetime & day\\_of\\_week & day\\_of\\_year & \\\\\n",
       "\t\\hline\n",
       "\t& String & String & String & Int64 & Int64 & \\\\\n",
       "\t\\hline\n",
       "\t1 & JST & 133.106.39.29 & 2023-03-10T19:10:50.558530+09:00 & 5 & 69 & $\\dots$ \\\\\n",
       "\\end{tabular}\n"
      ],
      "text/plain": [
       "\u001b[1m1×15 DataFrame\u001b[0m\n",
       "\u001b[1m Row \u001b[0m│\u001b[1m abbreviation \u001b[0m\u001b[1m client_ip     \u001b[0m\u001b[1m datetime                         \u001b[0m\u001b[1m day_of_w\u001b[0m ⋯\n",
       "     │\u001b[90m String       \u001b[0m\u001b[90m String        \u001b[0m\u001b[90m String                           \u001b[0m\u001b[90m Int64   \u001b[0m ⋯\n",
       "─────┼──────────────────────────────────────────────────────────────────────────\n",
       "   1 │ JST           133.106.39.29  2023-03-10T19:10:50.558530+09:00           ⋯\n",
       "\u001b[36m                                                              12 columns omitted\u001b[0m"
      ]
     },
     "metadata": {},
     "output_type": "display_data"
    }
   ],
   "source": [
    "DataFrame(j)"
   ]
  },
  {
   "cell_type": "code",
   "execution_count": 90,
   "metadata": {},
   "outputs": [],
   "source": [
    "open(\"./time.json\", \"w\") do f\n",
    "    JSON.print(f, j)\n",
    "end"
   ]
  },
  {
   "cell_type": "code",
   "execution_count": 94,
   "metadata": {},
   "outputs": [],
   "source": [
    "for _ in 1:4\n",
    "    response = HTTP.get(\"https://worldtimeapi.org/api/timezone/Asia/Tokyo\")\n",
    "    j = JSON.parse(String(response.body))\n",
    "    open(\"./time2.json\", \"a\") do f\n",
    "        JSON.print(f, j)\n",
    "    end\n",
    "    sleep(1)\n",
    "end"
   ]
  },
  {
   "attachments": {},
   "cell_type": "markdown",
   "metadata": {},
   "source": [
    "## 94"
   ]
  },
  {
   "cell_type": "code",
   "execution_count": 98,
   "metadata": {},
   "outputs": [],
   "source": [
    "ifn = \"../../data/chapter-8/config.yml\"\n",
    "if !isfile(ifn)\n",
    "    throw(error())\n",
    "end"
   ]
  },
  {
   "cell_type": "code",
   "execution_count": 101,
   "metadata": {},
   "outputs": [
    {
     "data": {
      "text/plain": [
       "Dict{Any, Any} with 2 entries:\n",
       "  \"dataset\" => Dict{Any, Any}(\"name\"=>\"pseudo\", \"path\"=>\"data/images_by_py/\")\n",
       "  \"use_gpu\" => true"
      ]
     },
     "metadata": {},
     "output_type": "display_data"
    }
   ],
   "source": [
    "YAML.load(String(read(ifn)))"
   ]
  },
  {
   "cell_type": "code",
   "execution_count": 103,
   "metadata": {},
   "outputs": [],
   "source": [
    "ifn = \"../../data/chapter-8/config.toml\"\n",
    "if !isfile(ifn)\n",
    "    throw(error())\n",
    "end"
   ]
  },
  {
   "cell_type": "code",
   "execution_count": 105,
   "metadata": {},
   "outputs": [
    {
     "data": {
      "text/plain": [
       "Dict{String, Any} with 2 entries:\n",
       "  \"dataset\" => Dict{String, Any}(\"name\"=>\"pseudo\", \"path\"=>\"data/images_by_py/\")\n",
       "  \"use_gpu\" => true"
      ]
     },
     "metadata": {},
     "output_type": "display_data"
    }
   ],
   "source": [
    "TOML.parse(String(read(ifn)))"
   ]
  },
  {
   "attachments": {},
   "cell_type": "markdown",
   "metadata": {},
   "source": [
    "## 95"
   ]
  },
  {
   "attachments": {},
   "cell_type": "markdown",
   "metadata": {},
   "source": [
    "## 96"
   ]
  },
  {
   "attachments": {},
   "cell_type": "markdown",
   "metadata": {},
   "source": [
    "## 97"
   ]
  },
  {
   "attachments": {},
   "cell_type": "markdown",
   "metadata": {},
   "source": [
    "## 98"
   ]
  },
  {
   "attachments": {},
   "cell_type": "markdown",
   "metadata": {},
   "source": [
    "## 99"
   ]
  },
  {
   "cell_type": "code",
   "execution_count": 107,
   "metadata": {},
   "outputs": [
    {
     "data": {
      "application/vnd.plotly.v1+json": {
       "config": {
        "editable": false,
        "responsive": true,
        "scrollZoom": true,
        "showLink": false,
        "staticPlot": false
       },
       "data": [
        {
         "type": "scatter",
         "x": [
          1,
          2,
          3,
          4,
          5,
          6,
          7,
          8,
          9,
          10
         ],
         "y": [
          0.7564792542935681,
          0.25089521509248713,
          0.09200616396498851,
          0.4397698785368681,
          0.9554999542164452,
          0.2787746580290916,
          0.6128422603395788,
          0.18936125903399292,
          0.8916061493803814,
          0.8706608892082431
         ]
        },
        {
         "type": "scatter",
         "x": [
          1,
          2,
          3,
          4,
          5,
          6,
          7,
          8,
          9,
          10
         ],
         "y": [
          0.6912223634135873,
          0.6479372082267217,
          0.43007128145140283,
          0.6724343518737202,
          0.032707100359906094,
          0.496968856261753,
          0.5084078280691757,
          0.497688507927043,
          0.7758246895511334,
          0.13544220498486637
         ]
        },
        {
         "type": "scatter",
         "x": [
          1,
          2,
          3,
          4,
          5,
          6,
          7,
          8,
          9,
          10
         ],
         "y": [
          0.5841321564184827,
          0.522468903229182,
          0.41707867491145356,
          0.380490798062318,
          0.27263701374592764,
          0.5727749092396032,
          0.4229979056671682,
          0.5561931981088449,
          0.1755381240933691,
          0.6894232363737199
         ]
        },
        {
         "type": "scatter",
         "x": [
          1,
          2,
          3,
          4,
          5,
          6,
          7,
          8,
          9,
          10
         ],
         "y": [
          0.45474802171772,
          0.9103475317141515,
          0.7028604603530932,
          0.36873250215473563,
          0.2787248816310297,
          0.6453882479166064,
          0.8921429096313105,
          0.9662171985518891,
          0.4569548764601209,
          0.9351325453329844
         ]
        }
       ],
       "frames": [],
       "layout": {
        "margin": {
         "b": 50,
         "l": 50,
         "r": 50,
         "t": 60
        },
        "template": {
         "data": {
          "bar": [
           {
            "error_x": {
             "color": "#2a3f5f"
            },
            "error_y": {
             "color": "#2a3f5f"
            },
            "marker": {
             "line": {
              "color": "#E5ECF6",
              "width": 0.5
             }
            },
            "type": "bar"
           }
          ],
          "barpolar": [
           {
            "marker": {
             "line": {
              "color": "#E5ECF6",
              "width": 0.5
             }
            },
            "type": "barpolar"
           }
          ],
          "carpet": [
           {
            "aaxis": {
             "endlinecolor": "#2a3f5f",
             "gridcolor": "white",
             "linecolor": "white",
             "minorgridcolor": "white",
             "startlinecolor": "#2a3f5f"
            },
            "baxis": {
             "endlinecolor": "#2a3f5f",
             "gridcolor": "white",
             "linecolor": "white",
             "minorgridcolor": "white",
             "startlinecolor": "#2a3f5f"
            },
            "type": "carpet"
           }
          ],
          "choropleth": [
           {
            "colorbar": {
             "outlinewidth": 0,
             "ticks": ""
            },
            "type": "choropleth"
           }
          ],
          "contour": [
           {
            "colorbar": {
             "outlinewidth": 0,
             "ticks": ""
            },
            "colorscale": [
             [
              0,
              "#0d0887"
             ],
             [
              0.1111111111111111,
              "#46039f"
             ],
             [
              0.2222222222222222,
              "#7201a8"
             ],
             [
              0.3333333333333333,
              "#9c179e"
             ],
             [
              0.4444444444444444,
              "#bd3786"
             ],
             [
              0.5555555555555556,
              "#d8576b"
             ],
             [
              0.6666666666666666,
              "#ed7953"
             ],
             [
              0.7777777777777778,
              "#fb9f3a"
             ],
             [
              0.8888888888888888,
              "#fdca26"
             ],
             [
              1,
              "#f0f921"
             ]
            ],
            "type": "contour"
           }
          ],
          "contourcarpet": [
           {
            "colorbar": {
             "outlinewidth": 0,
             "ticks": ""
            },
            "type": "contourcarpet"
           }
          ],
          "heatmap": [
           {
            "colorbar": {
             "outlinewidth": 0,
             "ticks": ""
            },
            "colorscale": [
             [
              0,
              "#0d0887"
             ],
             [
              0.1111111111111111,
              "#46039f"
             ],
             [
              0.2222222222222222,
              "#7201a8"
             ],
             [
              0.3333333333333333,
              "#9c179e"
             ],
             [
              0.4444444444444444,
              "#bd3786"
             ],
             [
              0.5555555555555556,
              "#d8576b"
             ],
             [
              0.6666666666666666,
              "#ed7953"
             ],
             [
              0.7777777777777778,
              "#fb9f3a"
             ],
             [
              0.8888888888888888,
              "#fdca26"
             ],
             [
              1,
              "#f0f921"
             ]
            ],
            "type": "heatmap"
           }
          ],
          "heatmapgl": [
           {
            "colorbar": {
             "outlinewidth": 0,
             "ticks": ""
            },
            "colorscale": [
             [
              0,
              "#0d0887"
             ],
             [
              0.1111111111111111,
              "#46039f"
             ],
             [
              0.2222222222222222,
              "#7201a8"
             ],
             [
              0.3333333333333333,
              "#9c179e"
             ],
             [
              0.4444444444444444,
              "#bd3786"
             ],
             [
              0.5555555555555556,
              "#d8576b"
             ],
             [
              0.6666666666666666,
              "#ed7953"
             ],
             [
              0.7777777777777778,
              "#fb9f3a"
             ],
             [
              0.8888888888888888,
              "#fdca26"
             ],
             [
              1,
              "#f0f921"
             ]
            ],
            "type": "heatmapgl"
           }
          ],
          "histogram": [
           {
            "marker": {
             "colorbar": {
              "outlinewidth": 0,
              "ticks": ""
             }
            },
            "type": "histogram"
           }
          ],
          "histogram2d": [
           {
            "colorbar": {
             "outlinewidth": 0,
             "ticks": ""
            },
            "colorscale": [
             [
              0,
              "#0d0887"
             ],
             [
              0.1111111111111111,
              "#46039f"
             ],
             [
              0.2222222222222222,
              "#7201a8"
             ],
             [
              0.3333333333333333,
              "#9c179e"
             ],
             [
              0.4444444444444444,
              "#bd3786"
             ],
             [
              0.5555555555555556,
              "#d8576b"
             ],
             [
              0.6666666666666666,
              "#ed7953"
             ],
             [
              0.7777777777777778,
              "#fb9f3a"
             ],
             [
              0.8888888888888888,
              "#fdca26"
             ],
             [
              1,
              "#f0f921"
             ]
            ],
            "type": "histogram2d"
           }
          ],
          "histogram2dcontour": [
           {
            "colorbar": {
             "outlinewidth": 0,
             "ticks": ""
            },
            "colorscale": [
             [
              0,
              "#0d0887"
             ],
             [
              0.1111111111111111,
              "#46039f"
             ],
             [
              0.2222222222222222,
              "#7201a8"
             ],
             [
              0.3333333333333333,
              "#9c179e"
             ],
             [
              0.4444444444444444,
              "#bd3786"
             ],
             [
              0.5555555555555556,
              "#d8576b"
             ],
             [
              0.6666666666666666,
              "#ed7953"
             ],
             [
              0.7777777777777778,
              "#fb9f3a"
             ],
             [
              0.8888888888888888,
              "#fdca26"
             ],
             [
              1,
              "#f0f921"
             ]
            ],
            "type": "histogram2dcontour"
           }
          ],
          "mesh3d": [
           {
            "colorbar": {
             "outlinewidth": 0,
             "ticks": ""
            },
            "type": "mesh3d"
           }
          ],
          "parcoords": [
           {
            "line": {
             "colorbar": {
              "outlinewidth": 0,
              "ticks": ""
             }
            },
            "type": "parcoords"
           }
          ],
          "pie": [
           {
            "automargin": true,
            "type": "pie"
           }
          ],
          "scatter": [
           {
            "marker": {
             "colorbar": {
              "outlinewidth": 0,
              "ticks": ""
             }
            },
            "type": "scatter"
           }
          ],
          "scatter3d": [
           {
            "line": {
             "colorbar": {
              "outlinewidth": 0,
              "ticks": ""
             }
            },
            "marker": {
             "colorbar": {
              "outlinewidth": 0,
              "ticks": ""
             }
            },
            "type": "scatter3d"
           }
          ],
          "scattercarpet": [
           {
            "marker": {
             "colorbar": {
              "outlinewidth": 0,
              "ticks": ""
             }
            },
            "type": "scattercarpet"
           }
          ],
          "scattergeo": [
           {
            "marker": {
             "colorbar": {
              "outlinewidth": 0,
              "ticks": ""
             }
            },
            "type": "scattergeo"
           }
          ],
          "scattergl": [
           {
            "marker": {
             "colorbar": {
              "outlinewidth": 0,
              "ticks": ""
             }
            },
            "type": "scattergl"
           }
          ],
          "scattermapbox": [
           {
            "marker": {
             "colorbar": {
              "outlinewidth": 0,
              "ticks": ""
             }
            },
            "type": "scattermapbox"
           }
          ],
          "scatterpolar": [
           {
            "marker": {
             "colorbar": {
              "outlinewidth": 0,
              "ticks": ""
             }
            },
            "type": "scatterpolar"
           }
          ],
          "scatterpolargl": [
           {
            "marker": {
             "colorbar": {
              "outlinewidth": 0,
              "ticks": ""
             }
            },
            "type": "scatterpolargl"
           }
          ],
          "scatterternary": [
           {
            "marker": {
             "colorbar": {
              "outlinewidth": 0,
              "ticks": ""
             }
            },
            "type": "scatterternary"
           }
          ],
          "surface": [
           {
            "colorbar": {
             "outlinewidth": 0,
             "ticks": ""
            },
            "colorscale": [
             [
              0,
              "#0d0887"
             ],
             [
              0.1111111111111111,
              "#46039f"
             ],
             [
              0.2222222222222222,
              "#7201a8"
             ],
             [
              0.3333333333333333,
              "#9c179e"
             ],
             [
              0.4444444444444444,
              "#bd3786"
             ],
             [
              0.5555555555555556,
              "#d8576b"
             ],
             [
              0.6666666666666666,
              "#ed7953"
             ],
             [
              0.7777777777777778,
              "#fb9f3a"
             ],
             [
              0.8888888888888888,
              "#fdca26"
             ],
             [
              1,
              "#f0f921"
             ]
            ],
            "type": "surface"
           }
          ],
          "table": [
           {
            "cells": {
             "fill": {
              "color": "#EBF0F8"
             },
             "line": {
              "color": "white"
             }
            },
            "header": {
             "fill": {
              "color": "#C8D4E3"
             },
             "line": {
              "color": "white"
             }
            },
            "type": "table"
           }
          ]
         },
         "layout": {
          "annotationdefaults": {
           "arrowcolor": "#2a3f5f",
           "arrowhead": 0,
           "arrowwidth": 1
          },
          "autotypenumbers": "strict",
          "coloraxis": {
           "colorbar": {
            "outlinewidth": 0,
            "ticks": ""
           }
          },
          "colorscale": {
           "diverging": [
            [
             0,
             "#8e0152"
            ],
            [
             0.1,
             "#c51b7d"
            ],
            [
             0.2,
             "#de77ae"
            ],
            [
             0.3,
             "#f1b6da"
            ],
            [
             0.4,
             "#fde0ef"
            ],
            [
             0.5,
             "#f7f7f7"
            ],
            [
             0.6,
             "#e6f5d0"
            ],
            [
             0.7,
             "#b8e186"
            ],
            [
             0.8,
             "#7fbc41"
            ],
            [
             0.9,
             "#4d9221"
            ],
            [
             1,
             "#276419"
            ]
           ],
           "sequential": [
            [
             0,
             "#0d0887"
            ],
            [
             0.1111111111111111,
             "#46039f"
            ],
            [
             0.2222222222222222,
             "#7201a8"
            ],
            [
             0.3333333333333333,
             "#9c179e"
            ],
            [
             0.4444444444444444,
             "#bd3786"
            ],
            [
             0.5555555555555556,
             "#d8576b"
            ],
            [
             0.6666666666666666,
             "#ed7953"
            ],
            [
             0.7777777777777778,
             "#fb9f3a"
            ],
            [
             0.8888888888888888,
             "#fdca26"
            ],
            [
             1,
             "#f0f921"
            ]
           ],
           "sequentialminus": [
            [
             0,
             "#0d0887"
            ],
            [
             0.1111111111111111,
             "#46039f"
            ],
            [
             0.2222222222222222,
             "#7201a8"
            ],
            [
             0.3333333333333333,
             "#9c179e"
            ],
            [
             0.4444444444444444,
             "#bd3786"
            ],
            [
             0.5555555555555556,
             "#d8576b"
            ],
            [
             0.6666666666666666,
             "#ed7953"
            ],
            [
             0.7777777777777778,
             "#fb9f3a"
            ],
            [
             0.8888888888888888,
             "#fdca26"
            ],
            [
             1,
             "#f0f921"
            ]
           ]
          },
          "colorway": [
           "#636efa",
           "#EF553B",
           "#00cc96",
           "#ab63fa",
           "#FFA15A",
           "#19d3f3",
           "#FF6692",
           "#B6E880",
           "#FF97FF",
           "#FECB52"
          ],
          "font": {
           "color": "#2a3f5f"
          },
          "geo": {
           "bgcolor": "white",
           "lakecolor": "white",
           "landcolor": "#E5ECF6",
           "showlakes": true,
           "showland": true,
           "subunitcolor": "white"
          },
          "hoverlabel": {
           "align": "left"
          },
          "hovermode": "closest",
          "mapbox": {
           "style": "light"
          },
          "paper_bgcolor": "white",
          "plot_bgcolor": "#E5ECF6",
          "polar": {
           "angularaxis": {
            "gridcolor": "white",
            "linecolor": "white",
            "ticks": ""
           },
           "bgcolor": "#E5ECF6",
           "radialaxis": {
            "gridcolor": "white",
            "linecolor": "white",
            "ticks": ""
           }
          },
          "scene": {
           "xaxis": {
            "backgroundcolor": "#E5ECF6",
            "gridcolor": "white",
            "gridwidth": 2,
            "linecolor": "white",
            "showbackground": true,
            "ticks": "",
            "zerolinecolor": "white"
           },
           "yaxis": {
            "backgroundcolor": "#E5ECF6",
            "gridcolor": "white",
            "gridwidth": 2,
            "linecolor": "white",
            "showbackground": true,
            "ticks": "",
            "zerolinecolor": "white"
           },
           "zaxis": {
            "backgroundcolor": "#E5ECF6",
            "gridcolor": "white",
            "gridwidth": 2,
            "linecolor": "white",
            "showbackground": true,
            "ticks": "",
            "zerolinecolor": "white"
           }
          },
          "shapedefaults": {
           "line": {
            "color": "#2a3f5f"
           }
          },
          "ternary": {
           "aaxis": {
            "gridcolor": "white",
            "linecolor": "white",
            "ticks": ""
           },
           "baxis": {
            "gridcolor": "white",
            "linecolor": "white",
            "ticks": ""
           },
           "bgcolor": "#E5ECF6",
           "caxis": {
            "gridcolor": "white",
            "linecolor": "white",
            "ticks": ""
           }
          },
          "title": {
           "x": 0.05
          },
          "xaxis": {
           "automargin": true,
           "gridcolor": "white",
           "linecolor": "white",
           "ticks": "",
           "title": {
            "standoff": 15
           },
           "zerolinecolor": "white",
           "zerolinewidth": 2
          },
          "yaxis": {
           "automargin": true,
           "gridcolor": "white",
           "linecolor": "white",
           "ticks": "",
           "title": {
            "standoff": 15
           },
           "zerolinecolor": "white",
           "zerolinewidth": 2
          }
         }
        }
       }
      },
      "image/png": "[encoded data removed]",
      "image/svg+xml": "<svg class=\"main-svg\" xmlns=\"http://www.w3.org/2000/svg\" xmlns:xlink=\"http://www.w3.org/1999/xlink\" width=\"700\" height=\"500\" style=\"\" viewBox=\"0 0 700 500\"><rect x=\"0\" y=\"0\" width=\"700\" height=\"500\" style=\"fill: rgb(255, 255, 255); fill-opacity: 1;\"/><defs id=\"defs-3898f7\"><g class=\"clips\"><clipPath id=\"clip3898f7xyplot\" class=\"plotclip\"><rect width=\"539\" height=\"390\"/></clipPath><clipPath class=\"axesclip\" id=\"clip3898f7x\"><rect x=\"50\" y=\"0\" width=\"539\" height=\"500\"/></clipPath><clipPath class=\"axesclip\" id=\"clip3898f7y\"><rect x=\"0\" y=\"60\" width=\"700\" height=\"390\"/></clipPath><clipPath class=\"axesclip\" id=\"clip3898f7xy\"><rect x=\"50\" y=\"60\" width=\"539\" height=\"390\"/></clipPath></g><g class=\"gradients\"/></defs><g class=\"bglayer\"><rect class=\"bg\" x=\"50\" y=\"60\" width=\"539\" height=\"390\" style=\"fill: rgb(229, 236, 246); fill-opacity: 1; stroke-width: 0;\"/></g><g class=\"layer-below\"><g class=\"imagelayer\"/><g class=\"shapelayer\"/></g><g class=\"cartesianlayer\"><g class=\"subplot xy\"><g class=\"layer-subplot\"><g class=\"shapelayer\"/><g class=\"imagelayer\"/></g><g class=\"gridlayer\"><g class=\"x\"><path class=\"xgrid crisp\" transform=\"translate(133.76999999999998,0)\" d=\"M0,60v390\" style=\"stroke: rgb(255, 255, 255); stroke-opacity: 1; stroke-width: 1px;\"/><path class=\"xgrid crisp\" transform=\"translate(239.9,0)\" d=\"M0,60v390\" style=\"stroke: rgb(255, 255, 255); stroke-opacity: 1; stroke-width: 1px;\"/><path class=\"xgrid crisp\" transform=\"translate(346.03,0)\" d=\"M0,60v390\" style=\"stroke: rgb(255, 255, 255); stroke-opacity: 1; stroke-width: 1px;\"/><path class=\"xgrid crisp\" transform=\"translate(452.17,0)\" d=\"M0,60v390\" style=\"stroke: rgb(255, 255, 255); stroke-opacity: 1; stroke-width: 1px;\"/><path class=\"xgrid crisp\" transform=\"translate(558.3,0)\" d=\"M0,60v390\" style=\"stroke: rgb(255, 255, 255); stroke-opacity: 1; stroke-width: 1px;\"/></g><g class=\"y\"><path class=\"ygrid crisp\" transform=\"translate(0,365.19)\" d=\"M50,0h539\" style=\"stroke: rgb(255, 255, 255); stroke-opacity: 1; stroke-width: 1px;\"/><path class=\"ygrid crisp\" transform=\"translate(0,291.6)\" d=\"M50,0h539\" style=\"stroke: rgb(255, 255, 255); stroke-opacity: 1; stroke-width: 1px;\"/><path class=\"ygrid crisp\" transform=\"translate(0,218.01)\" d=\"M50,0h539\" style=\"stroke: rgb(255, 255, 255); stroke-opacity: 1; stroke-width: 1px;\"/><path class=\"ygrid crisp\" transform=\"translate(0,144.41)\" d=\"M50,0h539\" style=\"stroke: rgb(255, 255, 255); stroke-opacity: 1; stroke-width: 1px;\"/><path class=\"ygrid crisp\" transform=\"translate(0,70.82)\" d=\"M50,0h539\" style=\"stroke: rgb(255, 255, 255); stroke-opacity: 1; stroke-width: 1px;\"/></g></g><g class=\"zerolinelayer\"><path class=\"yzl zl crisp\" transform=\"translate(0,438.79)\" d=\"M50,0h539\" style=\"stroke: rgb(255, 255, 255); stroke-opacity: 1; stroke-width: 2px;\"/></g><path class=\"xlines-below\"/><path class=\"ylines-below\"/><g class=\"overlines-below\"/><g class=\"xaxislayer-below\"/><g class=\"yaxislayer-below\"/><g class=\"overaxes-below\"/><g class=\"plot\" transform=\"translate(50,60)\" clip-path=\"url('#clip3898f7xyplot')\"><g class=\"scatterlayer mlayer\"><g class=\"trace scatter trace7a4482\" style=\"stroke-miterlimit: 2; opacity: 1;\"><g class=\"fills\"/><g class=\"errorbars\"/><g class=\"lines\"><path class=\"js-line\" d=\"M30.7,100.43L83.77,286.46L136.83,344.93L189.9,216.96L242.97,27.19L296.03,276.21L349.1,153.28L402.17,309.11L455.23,50.7L508.3,58.41\" style=\"vector-effect: non-scaling-stroke; fill: none; stroke: rgb(99, 110, 250); stroke-opacity: 1; stroke-width: 2px; opacity: 1;\"/></g><g class=\"points\"><path class=\"point\" transform=\"translate(30.7,100.43)\" d=\"M3,0A3,3 0 1,1 0,-3A3,3 0 0,1 3,0Z\" style=\"opacity: 1; stroke-width: 0px; fill: rgb(99, 110, 250); fill-opacity: 1;\"/><path class=\"point\" transform=\"translate(83.77,286.46)\" d=\"M3,0A3,3 0 1,1 0,-3A3,3 0 0,1 3,0Z\" style=\"opacity: 1; stroke-width: 0px; fill: rgb(99, 110, 250); fill-opacity: 1;\"/><path class=\"point\" transform=\"translate(136.83,344.93)\" d=\"M3,0A3,3 0 1,1 0,-3A3,3 0 0,1 3,0Z\" style=\"opacity: 1; stroke-width: 0px; fill: rgb(99, 110, 250); fill-opacity: 1;\"/><path class=\"point\" transform=\"translate(189.9,216.96)\" d=\"M3,0A3,3 0 1,1 0,-3A3,3 0 0,1 3,0Z\" style=\"opacity: 1; stroke-width: 0px; fill: rgb(99, 110, 250); fill-opacity: 1;\"/><path class=\"point\" transform=\"translate(242.97,27.19)\" d=\"M3,0A3,3 0 1,1 0,-3A3,3 0 0,1 3,0Z\" style=\"opacity: 1; stroke-width: 0px; fill: rgb(99, 110, 250); fill-opacity: 1;\"/><path class=\"point\" transform=\"translate(296.03,276.21)\" d=\"M3,0A3,3 0 1,1 0,-3A3,3 0 0,1 3,0Z\" style=\"opacity: 1; stroke-width: 0px; fill: rgb(99, 110, 250); fill-opacity: 1;\"/><path class=\"point\" transform=\"translate(349.1,153.28)\" d=\"M3,0A3,3 0 1,1 0,-3A3,3 0 0,1 3,0Z\" style=\"opacity: 1; stroke-width: 0px; fill: rgb(99, 110, 250); fill-opacity: 1;\"/><path class=\"point\" transform=\"translate(402.17,309.11)\" d=\"M3,0A3,3 0 1,1 0,-3A3,3 0 0,1 3,0Z\" style=\"opacity: 1; stroke-width: 0px; fill: rgb(99, 110, 250); fill-opacity: 1;\"/><path class=\"point\" transform=\"translate(455.23,50.7)\" d=\"M3,0A3,3 0 1,1 0,-3A3,3 0 0,1 3,0Z\" style=\"opacity: 1; stroke-width: 0px; fill: rgb(99, 110, 250); fill-opacity: 1;\"/><path class=\"point\" transform=\"translate(508.3,58.41)\" d=\"M3,0A3,3 0 1,1 0,-3A3,3 0 0,1 3,0Z\" style=\"opacity: 1; stroke-width: 0px; fill: rgb(99, 110, 250); fill-opacity: 1;\"/></g><g class=\"text\"/></g><g class=\"trace scatter traced3f43a\" style=\"stroke-miterlimit: 2; opacity: 1;\"><g class=\"fills\"/><g class=\"errorbars\"/><g class=\"lines\"><path class=\"js-line\" d=\"M30.7,124.44L83.77,140.37L136.83,220.53L189.9,131.35L242.97,366.75L296.03,195.92L349.1,191.71L402.17,195.65L455.23,93.31L508.3,328.95\" style=\"vector-effect: non-scaling-stroke; fill: none; stroke: rgb(239, 85, 59); stroke-opacity: 1; stroke-width: 2px; opacity: 1;\"/></g><g class=\"points\"><path class=\"point\" transform=\"translate(30.7,124.44)\" d=\"M3,0A3,3 0 1,1 0,-3A3,3 0 0,1 3,0Z\" style=\"opacity: 1; stroke-width: 0px; fill: rgb(239, 85, 59); fill-opacity: 1;\"/><path class=\"point\" transform=\"translate(83.77,140.37)\" d=\"M3,0A3,3 0 1,1 0,-3A3,3 0 0,1 3,0Z\" style=\"opacity: 1; stroke-width: 0px; fill: rgb(239, 85, 59); fill-opacity: 1;\"/><path class=\"point\" transform=\"translate(136.83,220.53)\" d=\"M3,0A3,3 0 1,1 0,-3A3,3 0 0,1 3,0Z\" style=\"opacity: 1; stroke-width: 0px; fill: rgb(239, 85, 59); fill-opacity: 1;\"/><path class=\"point\" transform=\"translate(189.9,131.35)\" d=\"M3,0A3,3 0 1,1 0,-3A3,3 0 0,1 3,0Z\" style=\"opacity: 1; stroke-width: 0px; fill: rgb(239, 85, 59); fill-opacity: 1;\"/><path class=\"point\" transform=\"translate(242.97,366.75)\" d=\"M3,0A3,3 0 1,1 0,-3A3,3 0 0,1 3,0Z\" style=\"opacity: 1; stroke-width: 0px; fill: rgb(239, 85, 59); fill-opacity: 1;\"/><path class=\"point\" transform=\"translate(296.03,195.92)\" d=\"M3,0A3,3 0 1,1 0,-3A3,3 0 0,1 3,0Z\" style=\"opacity: 1; stroke-width: 0px; fill: rgb(239, 85, 59); fill-opacity: 1;\"/><path class=\"point\" transform=\"translate(349.1,191.71)\" d=\"M3,0A3,3 0 1,1 0,-3A3,3 0 0,1 3,0Z\" style=\"opacity: 1; stroke-width: 0px; fill: rgb(239, 85, 59); fill-opacity: 1;\"/><path class=\"point\" transform=\"translate(402.17,195.65)\" d=\"M3,0A3,3 0 1,1 0,-3A3,3 0 0,1 3,0Z\" style=\"opacity: 1; stroke-width: 0px; fill: rgb(239, 85, 59); fill-opacity: 1;\"/><path class=\"point\" transform=\"translate(455.23,93.31)\" d=\"M3,0A3,3 0 1,1 0,-3A3,3 0 0,1 3,0Z\" style=\"opacity: 1; stroke-width: 0px; fill: rgb(239, 85, 59); fill-opacity: 1;\"/><path class=\"point\" transform=\"translate(508.3,328.95)\" d=\"M3,0A3,3 0 1,1 0,-3A3,3 0 0,1 3,0Z\" style=\"opacity: 1; stroke-width: 0px; fill: rgb(239, 85, 59); fill-opacity: 1;\"/></g><g class=\"text\"/></g><g class=\"trace scatter trace1b93b7\" style=\"stroke-miterlimit: 2; opacity: 1;\"><g class=\"fills\"/><g class=\"errorbars\"/><g class=\"lines\"><path class=\"js-line\" d=\"M30.7,163.84L83.77,186.53L136.83,225.31L189.9,238.78L242.97,278.46L296.03,168.02L349.1,223.14L402.17,174.12L455.23,314.19L508.3,125.1\" style=\"vector-effect: non-scaling-stroke; fill: none; stroke: rgb(0, 204, 150); stroke-opacity: 1; stroke-width: 2px; opacity: 1;\"/></g><g class=\"points\"><path class=\"point\" transform=\"translate(30.7,163.84)\" d=\"M3,0A3,3 0 1,1 0,-3A3,3 0 0,1 3,0Z\" style=\"opacity: 1; stroke-width: 0px; fill: rgb(0, 204, 150); fill-opacity: 1;\"/><path class=\"point\" transform=\"translate(83.77,186.53)\" d=\"M3,0A3,3 0 1,1 0,-3A3,3 0 0,1 3,0Z\" style=\"opacity: 1; stroke-width: 0px; fill: rgb(0, 204, 150); fill-opacity: 1;\"/><path class=\"point\" transform=\"translate(136.83,225.31)\" d=\"M3,0A3,3 0 1,1 0,-3A3,3 0 0,1 3,0Z\" style=\"opacity: 1; stroke-width: 0px; fill: rgb(0, 204, 150); fill-opacity: 1;\"/><path class=\"point\" transform=\"translate(189.9,238.78)\" d=\"M3,0A3,3 0 1,1 0,-3A3,3 0 0,1 3,0Z\" style=\"opacity: 1; stroke-width: 0px; fill: rgb(0, 204, 150); fill-opacity: 1;\"/><path class=\"point\" transform=\"translate(242.97,278.46)\" d=\"M3,0A3,3 0 1,1 0,-3A3,3 0 0,1 3,0Z\" style=\"opacity: 1; stroke-width: 0px; fill: rgb(0, 204, 150); fill-opacity: 1;\"/><path class=\"point\" transform=\"translate(296.03,168.02)\" d=\"M3,0A3,3 0 1,1 0,-3A3,3 0 0,1 3,0Z\" style=\"opacity: 1; stroke-width: 0px; fill: rgb(0, 204, 150); fill-opacity: 1;\"/><path class=\"point\" transform=\"translate(349.1,223.14)\" d=\"M3,0A3,3 0 1,1 0,-3A3,3 0 0,1 3,0Z\" style=\"opacity: 1; stroke-width: 0px; fill: rgb(0, 204, 150); fill-opacity: 1;\"/><path class=\"point\" transform=\"translate(402.17,174.12)\" d=\"M3,0A3,3 0 1,1 0,-3A3,3 0 0,1 3,0Z\" style=\"opacity: 1; stroke-width: 0px; fill: rgb(0, 204, 150); fill-opacity: 1;\"/><path class=\"point\" transform=\"translate(455.23,314.19)\" d=\"M3,0A3,3 0 1,1 0,-3A3,3 0 0,1 3,0Z\" style=\"opacity: 1; stroke-width: 0px; fill: rgb(0, 204, 150); fill-opacity: 1;\"/><path class=\"point\" transform=\"translate(508.3,125.1)\" d=\"M3,0A3,3 0 1,1 0,-3A3,3 0 0,1 3,0Z\" style=\"opacity: 1; stroke-width: 0px; fill: rgb(0, 204, 150); fill-opacity: 1;\"/></g><g class=\"text\"/></g><g class=\"trace scatter trace14e619\" style=\"stroke-miterlimit: 2; opacity: 1;\"><g class=\"fills\"/><g class=\"errorbars\"/><g class=\"lines\"><path class=\"js-line\" d=\"M30.7,211.45L83.77,43.81L136.83,120.16L189.9,243.1L242.97,276.22L296.03,141.3L349.1,50.51L402.17,23.25L455.23,210.64L508.3,34.69\" style=\"vector-effect: non-scaling-stroke; fill: none; stroke: rgb(171, 99, 250); stroke-opacity: 1; stroke-width: 2px; opacity: 1;\"/></g><g class=\"points\"><path class=\"point\" transform=\"translate(30.7,211.45)\" d=\"M3,0A3,3 0 1,1 0,-3A3,3 0 0,1 3,0Z\" style=\"opacity: 1; stroke-width: 0px; fill: rgb(171, 99, 250); fill-opacity: 1;\"/><path class=\"point\" transform=\"translate(83.77,43.81)\" d=\"M3,0A3,3 0 1,1 0,-3A3,3 0 0,1 3,0Z\" style=\"opacity: 1; stroke-width: 0px; fill: rgb(171, 99, 250); fill-opacity: 1;\"/><path class=\"point\" transform=\"translate(136.83,120.16)\" d=\"M3,0A3,3 0 1,1 0,-3A3,3 0 0,1 3,0Z\" style=\"opacity: 1; stroke-width: 0px; fill: rgb(171, 99, 250); fill-opacity: 1;\"/><path class=\"point\" transform=\"translate(189.9,243.1)\" d=\"M3,0A3,3 0 1,1 0,-3A3,3 0 0,1 3,0Z\" style=\"opacity: 1; stroke-width: 0px; fill: rgb(171, 99, 250); fill-opacity: 1;\"/><path class=\"point\" transform=\"translate(242.97,276.22)\" d=\"M3,0A3,3 0 1,1 0,-3A3,3 0 0,1 3,0Z\" style=\"opacity: 1; stroke-width: 0px; fill: rgb(171, 99, 250); fill-opacity: 1;\"/><path class=\"point\" transform=\"translate(296.03,141.3)\" d=\"M3,0A3,3 0 1,1 0,-3A3,3 0 0,1 3,0Z\" style=\"opacity: 1; stroke-width: 0px; fill: rgb(171, 99, 250); fill-opacity: 1;\"/><path class=\"point\" transform=\"translate(349.1,50.51)\" d=\"M3,0A3,3 0 1,1 0,-3A3,3 0 0,1 3,0Z\" style=\"opacity: 1; stroke-width: 0px; fill: rgb(171, 99, 250); fill-opacity: 1;\"/><path class=\"point\" transform=\"translate(402.17,23.25)\" d=\"M3,0A3,3 0 1,1 0,-3A3,3 0 0,1 3,0Z\" style=\"opacity: 1; stroke-width: 0px; fill: rgb(171, 99, 250); fill-opacity: 1;\"/><path class=\"point\" transform=\"translate(455.23,210.64)\" d=\"M3,0A3,3 0 1,1 0,-3A3,3 0 0,1 3,0Z\" style=\"opacity: 1; stroke-width: 0px; fill: rgb(171, 99, 250); fill-opacity: 1;\"/><path class=\"point\" transform=\"translate(508.3,34.69)\" d=\"M3,0A3,3 0 1,1 0,-3A3,3 0 0,1 3,0Z\" style=\"opacity: 1; stroke-width: 0px; fill: rgb(171, 99, 250); fill-opacity: 1;\"/></g><g class=\"text\"/></g></g></g><g class=\"overplot\"/><path class=\"xlines-above crisp\" d=\"M0,0\" style=\"fill: none;\"/><path class=\"ylines-above crisp\" d=\"M0,0\" style=\"fill: none;\"/><g class=\"overlines-above\"/><g class=\"xaxislayer-above\"><g class=\"xtick\"><text text-anchor=\"middle\" x=\"0\" y=\"463\" transform=\"translate(133.76999999999998,0)\" style=\"font-family: 'Open Sans', verdana, arial, sans-serif; font-size: 12px; fill: rgb(42, 63, 95); fill-opacity: 1; white-space: pre;\">2</text></g><g class=\"xtick\"><text text-anchor=\"middle\" x=\"0\" y=\"463\" transform=\"translate(239.9,0)\" style=\"font-family: 'Open Sans', verdana, arial, sans-serif; font-size: 12px; fill: rgb(42, 63, 95); fill-opacity: 1; white-space: pre;\">4</text></g><g class=\"xtick\"><text text-anchor=\"middle\" x=\"0\" y=\"463\" transform=\"translate(346.03,0)\" style=\"font-family: 'Open Sans', verdana, arial, sans-serif; font-size: 12px; fill: rgb(42, 63, 95); fill-opacity: 1; white-space: pre;\">6</text></g><g class=\"xtick\"><text text-anchor=\"middle\" x=\"0\" y=\"463\" transform=\"translate(452.17,0)\" style=\"font-family: 'Open Sans', verdana, arial, sans-serif; font-size: 12px; fill: rgb(42, 63, 95); fill-opacity: 1; white-space: pre;\">8</text></g><g class=\"xtick\"><text text-anchor=\"middle\" x=\"0\" y=\"463\" transform=\"translate(558.3,0)\" style=\"font-family: 'Open Sans', verdana, arial, sans-serif; font-size: 12px; fill: rgb(42, 63, 95); fill-opacity: 1; white-space: pre;\">10</text></g></g><g class=\"yaxislayer-above\"><g class=\"ytick\"><text text-anchor=\"end\" x=\"49\" y=\"4.199999999999999\" transform=\"translate(0,438.79)\" style=\"font-family: 'Open Sans', verdana, arial, sans-serif; font-size: 12px; fill: rgb(42, 63, 95); fill-opacity: 1; white-space: pre;\">0</text></g><g class=\"ytick\"><text text-anchor=\"end\" x=\"49\" y=\"4.199999999999999\" transform=\"translate(0,365.19)\" style=\"font-family: 'Open Sans', verdana, arial, sans-serif; font-size: 12px; fill: rgb(42, 63, 95); fill-opacity: 1; white-space: pre;\">0.2</text></g><g class=\"ytick\"><text text-anchor=\"end\" x=\"49\" y=\"4.199999999999999\" transform=\"translate(0,291.6)\" style=\"font-family: 'Open Sans', verdana, arial, sans-serif; font-size: 12px; fill: rgb(42, 63, 95); fill-opacity: 1; white-space: pre;\">0.4</text></g><g class=\"ytick\"><text text-anchor=\"end\" x=\"49\" y=\"4.199999999999999\" transform=\"translate(0,218.01)\" style=\"font-family: 'Open Sans', verdana, arial, sans-serif; font-size: 12px; fill: rgb(42, 63, 95); fill-opacity: 1; white-space: pre;\">0.6</text></g><g class=\"ytick\"><text text-anchor=\"end\" x=\"49\" y=\"4.199999999999999\" transform=\"translate(0,144.41)\" style=\"font-family: 'Open Sans', verdana, arial, sans-serif; font-size: 12px; fill: rgb(42, 63, 95); fill-opacity: 1; white-space: pre;\">0.8</text></g><g class=\"ytick\"><text text-anchor=\"end\" x=\"49\" y=\"4.199999999999999\" transform=\"translate(0,70.82)\" style=\"font-family: 'Open Sans', verdana, arial, sans-serif; font-size: 12px; fill: rgb(42, 63, 95); fill-opacity: 1; white-space: pre;\">1</text></g></g><g class=\"overaxes-above\"/></g></g><g class=\"polarlayer\"/><g class=\"ternarylayer\"/><g class=\"geolayer\"/><g class=\"funnelarealayer\"/><g class=\"pielayer\"/><g class=\"treemaplayer\"/><g class=\"sunburstlayer\"/><g class=\"glimages\"/><defs id=\"topdefs-3898f7\"><g class=\"clips\"/><clipPath id=\"legend3898f7\"><rect width=\"88\" height=\"86\" x=\"0\" y=\"0\"/></clipPath></defs><g class=\"layer-above\"><g class=\"imagelayer\"/><g class=\"shapelayer\"/></g><g class=\"infolayer\"><g class=\"legend\" pointer-events=\"all\" transform=\"translate(599.78,60)\"><rect class=\"bg\" shape-rendering=\"crispEdges\" style=\"stroke: rgb(68, 68, 68); stroke-opacity: 1; fill: rgb(255, 255, 255); fill-opacity: 1; stroke-width: 0px;\" width=\"88\" height=\"86\" x=\"0\" y=\"0\"/><g class=\"scrollbox\" transform=\"\" clip-path=\"url('#legend3898f7')\"><g class=\"groups\"><g class=\"traces\" transform=\"translate(0,14.5)\" style=\"opacity: 1;\"><text class=\"legendtext\" text-anchor=\"start\" x=\"40\" y=\"4.680000000000001\" style=\"font-family: 'Open Sans', verdana, arial, sans-serif; font-size: 12px; fill: rgb(42, 63, 95); fill-opacity: 1; white-space: pre;\">trace 0</text><g class=\"layers\" style=\"opacity: 1;\"><g class=\"legendfill\"/><g class=\"legendlines\"><path class=\"js-line\" d=\"M5,0h30\" style=\"fill: none; stroke: rgb(99, 110, 250); stroke-opacity: 1; stroke-width: 2px;\"/></g><g class=\"legendsymbols\"><g class=\"legendpoints\"><path class=\"scatterpts\" transform=\"translate(20,0)\" d=\"M3,0A3,3 0 1,1 0,-3A3,3 0 0,1 3,0Z\" style=\"opacity: 1; stroke-width: 0px; fill: rgb(99, 110, 250); fill-opacity: 1;\"/></g></g></g><rect class=\"legendtoggle\" x=\"0\" y=\"-9.5\" width=\"82.421875\" height=\"19\" style=\"fill: rgb(0, 0, 0); fill-opacity: 0;\"/></g><g class=\"traces\" transform=\"translate(0,33.5)\" style=\"opacity: 1;\"><text class=\"legendtext\" text-anchor=\"start\" x=\"40\" y=\"4.680000000000001\" style=\"font-family: 'Open Sans', verdana, arial, sans-serif; font-size: 12px; fill: rgb(42, 63, 95); fill-opacity: 1; white-space: pre;\">trace 1</text><g class=\"layers\" style=\"opacity: 1;\"><g class=\"legendfill\"/><g class=\"legendlines\"><path class=\"js-line\" d=\"M5,0h30\" style=\"fill: none; stroke: rgb(239, 85, 59); stroke-opacity: 1; stroke-width: 2px;\"/></g><g class=\"legendsymbols\"><g class=\"legendpoints\"><path class=\"scatterpts\" transform=\"translate(20,0)\" d=\"M3,0A3,3 0 1,1 0,-3A3,3 0 0,1 3,0Z\" style=\"opacity: 1; stroke-width: 0px; fill: rgb(239, 85, 59); fill-opacity: 1;\"/></g></g></g><rect class=\"legendtoggle\" x=\"0\" y=\"-9.5\" width=\"82.421875\" height=\"19\" style=\"fill: rgb(0, 0, 0); fill-opacity: 0;\"/></g><g class=\"traces\" transform=\"translate(0,52.5)\" style=\"opacity: 1;\"><text class=\"legendtext\" text-anchor=\"start\" x=\"40\" y=\"4.680000000000001\" style=\"font-family: 'Open Sans', verdana, arial, sans-serif; font-size: 12px; fill: rgb(42, 63, 95); fill-opacity: 1; white-space: pre;\">trace 2</text><g class=\"layers\" style=\"opacity: 1;\"><g class=\"legendfill\"/><g class=\"legendlines\"><path class=\"js-line\" d=\"M5,0h30\" style=\"fill: none; stroke: rgb(0, 204, 150); stroke-opacity: 1; stroke-width: 2px;\"/></g><g class=\"legendsymbols\"><g class=\"legendpoints\"><path class=\"scatterpts\" transform=\"translate(20,0)\" d=\"M3,0A3,3 0 1,1 0,-3A3,3 0 0,1 3,0Z\" style=\"opacity: 1; stroke-width: 0px; fill: rgb(0, 204, 150); fill-opacity: 1;\"/></g></g></g><rect class=\"legendtoggle\" x=\"0\" y=\"-9.5\" width=\"82.421875\" height=\"19\" style=\"fill: rgb(0, 0, 0); fill-opacity: 0;\"/></g><g class=\"traces\" transform=\"translate(0,71.5)\" style=\"opacity: 1;\"><text class=\"legendtext\" text-anchor=\"start\" x=\"40\" y=\"4.680000000000001\" style=\"font-family: 'Open Sans', verdana, arial, sans-serif; font-size: 12px; fill: rgb(42, 63, 95); fill-opacity: 1; white-space: pre;\">trace 3</text><g class=\"layers\" style=\"opacity: 1;\"><g class=\"legendfill\"/><g class=\"legendlines\"><path class=\"js-line\" d=\"M5,0h30\" style=\"fill: none; stroke: rgb(171, 99, 250); stroke-opacity: 1; stroke-width: 2px;\"/></g><g class=\"legendsymbols\"><g class=\"legendpoints\"><path class=\"scatterpts\" transform=\"translate(20,0)\" d=\"M3,0A3,3 0 1,1 0,-3A3,3 0 0,1 3,0Z\" style=\"opacity: 1; stroke-width: 0px; fill: rgb(171, 99, 250); fill-opacity: 1;\"/></g></g></g><rect class=\"legendtoggle\" x=\"0\" y=\"-9.5\" width=\"82.421875\" height=\"19\" style=\"fill: rgb(0, 0, 0); fill-opacity: 0;\"/></g></g></g><rect class=\"scrollbar\" rx=\"20\" ry=\"3\" width=\"0\" height=\"0\" style=\"fill: rgb(128, 139, 164); fill-opacity: 1;\" x=\"0\" y=\"0\"/></g><g class=\"g-gtitle\"/><g class=\"g-xtitle\"/><g class=\"g-ytitle\"/></g></svg>",
      "text/html": [
       "<div\n",
       "    class=\"webio-mountpoint\"\n",
       "    data-webio-mountpoint=\"4446831744474996640\"\n",
       ">\n",
       "    <script>\n",
       "    (function(){\n",
       "    // Some integrations (namely, IJulia/Jupyter) use an alternate render pathway than\n",
       "    // just putting the html on the page. If WebIO isn't defined, then it's pretty likely\n",
       "    // that we're in one of those situations and the integration just isn't installed\n",
       "    // correctly.\n",
       "    if (typeof window.WebIO === \"undefined\") {\n",
       "        document\n",
       "            .querySelector('[data-webio-mountpoint=\"4446831744474996640\"]')\n",
       "            .innerHTML = (\n",
       "                '<div style=\"padding: 1em; background-color: #f8d6da; border: 1px solid #f5c6cb; font-weight: bold;\">' +\n",
       "                '<p><strong>WebIO not detected.</strong></p>' +\n",
       "                '<p>Please read ' +\n",
       "                '<a href=\"https://juliagizmos.github.io/WebIO.jl/latest/troubleshooting/not-detected/\" target=\"_blank\">the troubleshooting guide</a> ' +\n",
       "                'for more information on how to resolve this issue.</p>' +\n",
       "                '<p><a href=\"https://juliagizmos.github.io/WebIO.jl/latest/troubleshooting/not-detected/\" target=\"_blank\">https://juliagizmos.github.io/WebIO.jl/latest/troubleshooting/not-detected/</a></p>' +\n",
       "                '</div>'\n",
       "            );\n",
       "        return;\n",
       "    }\n",
       "    WebIO.mount(\n",
       "        document.querySelector('[data-webio-mountpoint=\"4446831744474996640\"]'),\n",
       "        {\"props\":{},\"nodeType\":\"Scope\",\"type\":\"node\",\"instanceArgs\":{\"imports\":{\"data\":[{\"name\":\"Plotly\",\"type\":\"js\",\"url\":\"\\/assetserver\\/4fbd3cdb767440da7987bb962b81e7f21dde7374-plotly.min.js\"},{\"name\":null,\"type\":\"js\",\"url\":\"\\/assetserver\\/800c4a64c47a73d1d0c4a7aff6649ad5e1aabeaa-plotly_webio.bundle.js\"}],\"type\":\"async_block\"},\"id\":\"11413569237761476326\",\"handlers\":{\"_toImage\":[\"(function (options){return this.Plotly.toImage(this.plotElem,options).then((function (data){return WebIO.setval({\\\"name\\\":\\\"image\\\",\\\"scope\\\":\\\"11413569237761476326\\\",\\\"id\\\":\\\"12430704151438290622\\\",\\\"type\\\":\\\"observable\\\"},data)}))})\"],\"__get_gd_contents\":[\"(function (prop){prop==\\\"data\\\" ? (WebIO.setval({\\\"name\\\":\\\"__gd_contents\\\",\\\"scope\\\":\\\"11413569237761476326\\\",\\\"id\\\":\\\"14829214811359174491\\\",\\\"type\\\":\\\"observable\\\"},this.plotElem.data)) : undefined; return prop==\\\"layout\\\" ? (WebIO.setval({\\\"name\\\":\\\"__gd_contents\\\",\\\"scope\\\":\\\"11413569237761476326\\\",\\\"id\\\":\\\"14829214811359174491\\\",\\\"type\\\":\\\"observable\\\"},this.plotElem.layout)) : undefined})\"],\"_downloadImage\":[\"(function (options){return this.Plotly.downloadImage(this.plotElem,options)})\"],\"_commands\":[\"(function (args){var fn=args.shift(); var elem=this.plotElem; var Plotly=this.Plotly; args.unshift(elem); return Plotly[fn].apply(this,args)})\"]},\"systemjs_options\":null,\"mount_callbacks\":[\"function () {\\n    var handler = ((function (Plotly,PlotlyWebIO){PlotlyWebIO.init(WebIO); var gd=this.dom.querySelector(\\\"#plot-dd4a5daa-5b21-4364-a7f3-d2d5a9ef871e\\\"); this.plotElem=gd; this.Plotly=Plotly; (window.Blink!==undefined) ? (gd.style.width=\\\"100%\\\", gd.style.height=\\\"100vh\\\", gd.style.marginLeft=\\\"0%\\\", gd.style.marginTop=\\\"0vh\\\") : undefined; window.onresize=(function (){return Plotly.Plots.resize(gd)}); Plotly.newPlot(gd,[{\\\"y\\\":[0.7564792542935681,0.25089521509248713,0.09200616396498851,0.4397698785368681,0.9554999542164452,0.2787746580290916,0.6128422603395788,0.18936125903399292,0.8916061493803814,0.8706608892082431],\\\"type\\\":\\\"scatter\\\",\\\"x\\\":[1,2,3,4,5,6,7,8,9,10]},{\\\"y\\\":[0.6912223634135873,0.6479372082267217,0.43007128145140283,0.6724343518737202,0.032707100359906094,0.496968856261753,0.5084078280691757,0.497688507927043,0.7758246895511334,0.13544220498486637],\\\"type\\\":\\\"scatter\\\",\\\"x\\\":[1,2,3,4,5,6,7,8,9,10]},{\\\"y\\\":[0.5841321564184827,0.522468903229182,0.41707867491145356,0.380490798062318,0.27263701374592764,0.5727749092396032,0.4229979056671682,0.5561931981088449,0.1755381240933691,0.6894232363737199],\\\"type\\\":\\\"scatter\\\",\\\"x\\\":[1,2,3,4,5,6,7,8,9,10]},{\\\"y\\\":[0.45474802171772,0.9103475317141515,0.7028604603530932,0.36873250215473563,0.2787248816310297,0.6453882479166064,0.8921429096313105,0.9662171985518891,0.4569548764601209,0.9351325453329844],\\\"type\\\":\\\"scatter\\\",\\\"x\\\":[1,2,3,4,5,6,7,8,9,10]}],{\\\"template\\\":{\\\"layout\\\":{\\\"coloraxis\\\":{\\\"colorbar\\\":{\\\"ticks\\\":\\\"\\\",\\\"outlinewidth\\\":0}},\\\"xaxis\\\":{\\\"gridcolor\\\":\\\"white\\\",\\\"zerolinewidth\\\":2,\\\"title\\\":{\\\"standoff\\\":15},\\\"ticks\\\":\\\"\\\",\\\"zerolinecolor\\\":\\\"white\\\",\\\"automargin\\\":true,\\\"linecolor\\\":\\\"white\\\"},\\\"hovermode\\\":\\\"closest\\\",\\\"paper_bgcolor\\\":\\\"white\\\",\\\"geo\\\":{\\\"showlakes\\\":true,\\\"showland\\\":true,\\\"landcolor\\\":\\\"#E5ECF6\\\",\\\"bgcolor\\\":\\\"white\\\",\\\"subunitcolor\\\":\\\"white\\\",\\\"lakecolor\\\":\\\"white\\\"},\\\"colorscale\\\":{\\\"sequential\\\":[[0.0,\\\"#0d0887\\\"],[0.1111111111111111,\\\"#46039f\\\"],[0.2222222222222222,\\\"#7201a8\\\"],[0.3333333333333333,\\\"#9c179e\\\"],[0.4444444444444444,\\\"#bd3786\\\"],[0.5555555555555556,\\\"#d8576b\\\"],[0.6666666666666666,\\\"#ed7953\\\"],[0.7777777777777778,\\\"#fb9f3a\\\"],[0.8888888888888888,\\\"#fdca26\\\"],[1.0,\\\"#f0f921\\\"]],\\\"diverging\\\":[[0,\\\"#8e0152\\\"],[0.1,\\\"#c51b7d\\\"],[0.2,\\\"#de77ae\\\"],[0.3,\\\"#f1b6da\\\"],[0.4,\\\"#fde0ef\\\"],[0.5,\\\"#f7f7f7\\\"],[0.6,\\\"#e6f5d0\\\"],[0.7,\\\"#b8e186\\\"],[0.8,\\\"#7fbc41\\\"],[0.9,\\\"#4d9221\\\"],[1,\\\"#276419\\\"]],\\\"sequentialminus\\\":[[0.0,\\\"#0d0887\\\"],[0.1111111111111111,\\\"#46039f\\\"],[0.2222222222222222,\\\"#7201a8\\\"],[0.3333333333333333,\\\"#9c179e\\\"],[0.4444444444444444,\\\"#bd3786\\\"],[0.5555555555555556,\\\"#d8576b\\\"],[0.6666666666666666,\\\"#ed7953\\\"],[0.7777777777777778,\\\"#fb9f3a\\\"],[0.8888888888888888,\\\"#fdca26\\\"],[1.0,\\\"#f0f921\\\"]]},\\\"yaxis\\\":{\\\"gridcolor\\\":\\\"white\\\",\\\"zerolinewidth\\\":2,\\\"title\\\":{\\\"standoff\\\":15},\\\"ticks\\\":\\\"\\\",\\\"zerolinecolor\\\":\\\"white\\\",\\\"automargin\\\":true,\\\"linecolor\\\":\\\"white\\\"},\\\"shapedefaults\\\":{\\\"line\\\":{\\\"color\\\":\\\"#2a3f5f\\\"}},\\\"hoverlabel\\\":{\\\"align\\\":\\\"left\\\"},\\\"mapbox\\\":{\\\"style\\\":\\\"light\\\"},\\\"polar\\\":{\\\"angularaxis\\\":{\\\"gridcolor\\\":\\\"white\\\",\\\"ticks\\\":\\\"\\\",\\\"linecolor\\\":\\\"white\\\"},\\\"bgcolor\\\":\\\"#E5ECF6\\\",\\\"radialaxis\\\":{\\\"gridcolor\\\":\\\"white\\\",\\\"ticks\\\":\\\"\\\",\\\"linecolor\\\":\\\"white\\\"}},\\\"autotypenumbers\\\":\\\"strict\\\",\\\"font\\\":{\\\"color\\\":\\\"#2a3f5f\\\"},\\\"ternary\\\":{\\\"baxis\\\":{\\\"gridcolor\\\":\\\"white\\\",\\\"ticks\\\":\\\"\\\",\\\"linecolor\\\":\\\"white\\\"},\\\"bgcolor\\\":\\\"#E5ECF6\\\",\\\"caxis\\\":{\\\"gridcolor\\\":\\\"white\\\",\\\"ticks\\\":\\\"\\\",\\\"linecolor\\\":\\\"white\\\"},\\\"aaxis\\\":{\\\"gridcolor\\\":\\\"white\\\",\\\"ticks\\\":\\\"\\\",\\\"linecolor\\\":\\\"white\\\"}},\\\"annotationdefaults\\\":{\\\"arrowhead\\\":0,\\\"arrowwidth\\\":1,\\\"arrowcolor\\\":\\\"#2a3f5f\\\"},\\\"plot_bgcolor\\\":\\\"#E5ECF6\\\",\\\"title\\\":{\\\"x\\\":0.05},\\\"scene\\\":{\\\"xaxis\\\":{\\\"gridcolor\\\":\\\"white\\\",\\\"gridwidth\\\":2,\\\"backgroundcolor\\\":\\\"#E5ECF6\\\",\\\"ticks\\\":\\\"\\\",\\\"showbackground\\\":true,\\\"zerolinecolor\\\":\\\"white\\\",\\\"linecolor\\\":\\\"white\\\"},\\\"zaxis\\\":{\\\"gridcolor\\\":\\\"white\\\",\\\"gridwidth\\\":2,\\\"backgroundcolor\\\":\\\"#E5ECF6\\\",\\\"ticks\\\":\\\"\\\",\\\"showbackground\\\":true,\\\"zerolinecolor\\\":\\\"white\\\",\\\"linecolor\\\":\\\"white\\\"},\\\"yaxis\\\":{\\\"gridcolor\\\":\\\"white\\\",\\\"gridwidth\\\":2,\\\"backgroundcolor\\\":\\\"#E5ECF6\\\",\\\"ticks\\\":\\\"\\\",\\\"showbackground\\\":true,\\\"zerolinecolor\\\":\\\"white\\\",\\\"linecolor\\\":\\\"white\\\"}},\\\"colorway\\\":[\\\"#636efa\\\",\\\"#EF553B\\\",\\\"#00cc96\\\",\\\"#ab63fa\\\",\\\"#FFA15A\\\",\\\"#19d3f3\\\",\\\"#FF6692\\\",\\\"#B6E880\\\",\\\"#FF97FF\\\",\\\"#FECB52\\\"]},\\\"data\\\":{\\\"barpolar\\\":[{\\\"type\\\":\\\"barpolar\\\",\\\"marker\\\":{\\\"line\\\":{\\\"color\\\":\\\"#E5ECF6\\\",\\\"width\\\":0.5}}}],\\\"carpet\\\":[{\\\"aaxis\\\":{\\\"gridcolor\\\":\\\"white\\\",\\\"endlinecolor\\\":\\\"#2a3f5f\\\",\\\"minorgridcolor\\\":\\\"white\\\",\\\"startlinecolor\\\":\\\"#2a3f5f\\\",\\\"linecolor\\\":\\\"white\\\"},\\\"type\\\":\\\"carpet\\\",\\\"baxis\\\":{\\\"gridcolor\\\":\\\"white\\\",\\\"endlinecolor\\\":\\\"#2a3f5f\\\",\\\"minorgridcolor\\\":\\\"white\\\",\\\"startlinecolor\\\":\\\"#2a3f5f\\\",\\\"linecolor\\\":\\\"white\\\"}}],\\\"scatterpolar\\\":[{\\\"type\\\":\\\"scatterpolar\\\",\\\"marker\\\":{\\\"colorbar\\\":{\\\"ticks\\\":\\\"\\\",\\\"outlinewidth\\\":0}}}],\\\"parcoords\\\":[{\\\"line\\\":{\\\"colorbar\\\":{\\\"ticks\\\":\\\"\\\",\\\"outlinewidth\\\":0}},\\\"type\\\":\\\"parcoords\\\"}],\\\"scatter\\\":[{\\\"type\\\":\\\"scatter\\\",\\\"marker\\\":{\\\"colorbar\\\":{\\\"ticks\\\":\\\"\\\",\\\"outlinewidth\\\":0}}}],\\\"histogram2dcontour\\\":[{\\\"colorbar\\\":{\\\"ticks\\\":\\\"\\\",\\\"outlinewidth\\\":0},\\\"type\\\":\\\"histogram2dcontour\\\",\\\"colorscale\\\":[[0.0,\\\"#0d0887\\\"],[0.1111111111111111,\\\"#46039f\\\"],[0.2222222222222222,\\\"#7201a8\\\"],[0.3333333333333333,\\\"#9c179e\\\"],[0.4444444444444444,\\\"#bd3786\\\"],[0.5555555555555556,\\\"#d8576b\\\"],[0.6666666666666666,\\\"#ed7953\\\"],[0.7777777777777778,\\\"#fb9f3a\\\"],[0.8888888888888888,\\\"#fdca26\\\"],[1.0,\\\"#f0f921\\\"]]}],\\\"contour\\\":[{\\\"colorbar\\\":{\\\"ticks\\\":\\\"\\\",\\\"outlinewidth\\\":0},\\\"type\\\":\\\"contour\\\",\\\"colorscale\\\":[[0.0,\\\"#0d0887\\\"],[0.1111111111111111,\\\"#46039f\\\"],[0.2222222222222222,\\\"#7201a8\\\"],[0.3333333333333333,\\\"#9c179e\\\"],[0.4444444444444444,\\\"#bd3786\\\"],[0.5555555555555556,\\\"#d8576b\\\"],[0.6666666666666666,\\\"#ed7953\\\"],[0.7777777777777778,\\\"#fb9f3a\\\"],[0.8888888888888888,\\\"#fdca26\\\"],[1.0,\\\"#f0f921\\\"]]}],\\\"scattercarpet\\\":[{\\\"type\\\":\\\"scattercarpet\\\",\\\"marker\\\":{\\\"colorbar\\\":{\\\"ticks\\\":\\\"\\\",\\\"outlinewidth\\\":0}}}],\\\"mesh3d\\\":[{\\\"colorbar\\\":{\\\"ticks\\\":\\\"\\\",\\\"outlinewidth\\\":0},\\\"type\\\":\\\"mesh3d\\\"}],\\\"surface\\\":[{\\\"colorbar\\\":{\\\"ticks\\\":\\\"\\\",\\\"outlinewidth\\\":0},\\\"type\\\":\\\"surface\\\",\\\"colorscale\\\":[[0.0,\\\"#0d0887\\\"],[0.1111111111111111,\\\"#46039f\\\"],[0.2222222222222222,\\\"#7201a8\\\"],[0.3333333333333333,\\\"#9c179e\\\"],[0.4444444444444444,\\\"#bd3786\\\"],[0.5555555555555556,\\\"#d8576b\\\"],[0.6666666666666666,\\\"#ed7953\\\"],[0.7777777777777778,\\\"#fb9f3a\\\"],[0.8888888888888888,\\\"#fdca26\\\"],[1.0,\\\"#f0f921\\\"]]}],\\\"scattermapbox\\\":[{\\\"type\\\":\\\"scattermapbox\\\",\\\"marker\\\":{\\\"colorbar\\\":{\\\"ticks\\\":\\\"\\\",\\\"outlinewidth\\\":0}}}],\\\"scattergeo\\\":[{\\\"type\\\":\\\"scattergeo\\\",\\\"marker\\\":{\\\"colorbar\\\":{\\\"ticks\\\":\\\"\\\",\\\"outlinewidth\\\":0}}}],\\\"histogram\\\":[{\\\"type\\\":\\\"histogram\\\",\\\"marker\\\":{\\\"colorbar\\\":{\\\"ticks\\\":\\\"\\\",\\\"outlinewidth\\\":0}}}],\\\"pie\\\":[{\\\"type\\\":\\\"pie\\\",\\\"automargin\\\":true}],\\\"choropleth\\\":[{\\\"colorbar\\\":{\\\"ticks\\\":\\\"\\\",\\\"outlinewidth\\\":0},\\\"type\\\":\\\"choropleth\\\"}],\\\"heatmapgl\\\":[{\\\"colorbar\\\":{\\\"ticks\\\":\\\"\\\",\\\"outlinewidth\\\":0},\\\"type\\\":\\\"heatmapgl\\\",\\\"colorscale\\\":[[0.0,\\\"#0d0887\\\"],[0.1111111111111111,\\\"#46039f\\\"],[0.2222222222222222,\\\"#7201a8\\\"],[0.3333333333333333,\\\"#9c179e\\\"],[0.4444444444444444,\\\"#bd3786\\\"],[0.5555555555555556,\\\"#d8576b\\\"],[0.6666666666666666,\\\"#ed7953\\\"],[0.7777777777777778,\\\"#fb9f3a\\\"],[0.8888888888888888,\\\"#fdca26\\\"],[1.0,\\\"#f0f921\\\"]]}],\\\"bar\\\":[{\\\"type\\\":\\\"bar\\\",\\\"error_y\\\":{\\\"color\\\":\\\"#2a3f5f\\\"},\\\"error_x\\\":{\\\"color\\\":\\\"#2a3f5f\\\"},\\\"marker\\\":{\\\"line\\\":{\\\"color\\\":\\\"#E5ECF6\\\",\\\"width\\\":0.5}}}],\\\"heatmap\\\":[{\\\"colorbar\\\":{\\\"ticks\\\":\\\"\\\",\\\"outlinewidth\\\":0},\\\"type\\\":\\\"heatmap\\\",\\\"colorscale\\\":[[0.0,\\\"#0d0887\\\"],[0.1111111111111111,\\\"#46039f\\\"],[0.2222222222222222,\\\"#7201a8\\\"],[0.3333333333333333,\\\"#9c179e\\\"],[0.4444444444444444,\\\"#bd3786\\\"],[0.5555555555555556,\\\"#d8576b\\\"],[0.6666666666666666,\\\"#ed7953\\\"],[0.7777777777777778,\\\"#fb9f3a\\\"],[0.8888888888888888,\\\"#fdca26\\\"],[1.0,\\\"#f0f921\\\"]]}],\\\"contourcarpet\\\":[{\\\"colorbar\\\":{\\\"ticks\\\":\\\"\\\",\\\"outlinewidth\\\":0},\\\"type\\\":\\\"contourcarpet\\\"}],\\\"table\\\":[{\\\"type\\\":\\\"table\\\",\\\"header\\\":{\\\"line\\\":{\\\"color\\\":\\\"white\\\"},\\\"fill\\\":{\\\"color\\\":\\\"#C8D4E3\\\"}},\\\"cells\\\":{\\\"line\\\":{\\\"color\\\":\\\"white\\\"},\\\"fill\\\":{\\\"color\\\":\\\"#EBF0F8\\\"}}}],\\\"scatter3d\\\":[{\\\"line\\\":{\\\"colorbar\\\":{\\\"ticks\\\":\\\"\\\",\\\"outlinewidth\\\":0}},\\\"type\\\":\\\"scatter3d\\\",\\\"marker\\\":{\\\"colorbar\\\":{\\\"ticks\\\":\\\"\\\",\\\"outlinewidth\\\":0}}}],\\\"scattergl\\\":[{\\\"type\\\":\\\"scattergl\\\",\\\"marker\\\":{\\\"colorbar\\\":{\\\"ticks\\\":\\\"\\\",\\\"outlinewidth\\\":0}}}],\\\"histogram2d\\\":[{\\\"colorbar\\\":{\\\"ticks\\\":\\\"\\\",\\\"outlinewidth\\\":0},\\\"type\\\":\\\"histogram2d\\\",\\\"colorscale\\\":[[0.0,\\\"#0d0887\\\"],[0.1111111111111111,\\\"#46039f\\\"],[0.2222222222222222,\\\"#7201a8\\\"],[0.3333333333333333,\\\"#9c179e\\\"],[0.4444444444444444,\\\"#bd3786\\\"],[0.5555555555555556,\\\"#d8576b\\\"],[0.6666666666666666,\\\"#ed7953\\\"],[0.7777777777777778,\\\"#fb9f3a\\\"],[0.8888888888888888,\\\"#fdca26\\\"],[1.0,\\\"#f0f921\\\"]]}],\\\"scatterternary\\\":[{\\\"type\\\":\\\"scatterternary\\\",\\\"marker\\\":{\\\"colorbar\\\":{\\\"ticks\\\":\\\"\\\",\\\"outlinewidth\\\":0}}}],\\\"scatterpolargl\\\":[{\\\"type\\\":\\\"scatterpolargl\\\",\\\"marker\\\":{\\\"colorbar\\\":{\\\"ticks\\\":\\\"\\\",\\\"outlinewidth\\\":0}}}]}},\\\"margin\\\":{\\\"l\\\":50,\\\"b\\\":50,\\\"r\\\":50,\\\"t\\\":60}},{\\\"showLink\\\":false,\\\"editable\\\":false,\\\"responsive\\\":true,\\\"staticPlot\\\":false,\\\"scrollZoom\\\":true}); gd.on(\\\"plotly_hover\\\",(function (data){var filtered_data=WebIO.PlotlyCommands.filterEventData(gd,data,\\\"hover\\\"); return !(filtered_data.isnil) ? (WebIO.setval({\\\"name\\\":\\\"hover\\\",\\\"scope\\\":\\\"11413569237761476326\\\",\\\"id\\\":\\\"1004002010829163200\\\",\\\"type\\\":\\\"observable\\\"},filtered_data.out)) : undefined})); gd.on(\\\"plotly_unhover\\\",(function (){return WebIO.setval({\\\"name\\\":\\\"hover\\\",\\\"scope\\\":\\\"11413569237761476326\\\",\\\"id\\\":\\\"1004002010829163200\\\",\\\"type\\\":\\\"observable\\\"},{})})); gd.on(\\\"plotly_selected\\\",(function (data){var filtered_data=WebIO.PlotlyCommands.filterEventData(gd,data,\\\"selected\\\"); return !(filtered_data.isnil) ? (WebIO.setval({\\\"name\\\":\\\"selected\\\",\\\"scope\\\":\\\"11413569237761476326\\\",\\\"id\\\":\\\"2158716774342262835\\\",\\\"type\\\":\\\"observable\\\"},filtered_data.out)) : undefined})); gd.on(\\\"plotly_deselect\\\",(function (){return WebIO.setval({\\\"name\\\":\\\"selected\\\",\\\"scope\\\":\\\"11413569237761476326\\\",\\\"id\\\":\\\"2158716774342262835\\\",\\\"type\\\":\\\"observable\\\"},{})})); gd.on(\\\"plotly_relayout\\\",(function (data){var filtered_data=WebIO.PlotlyCommands.filterEventData(gd,data,\\\"relayout\\\"); return !(filtered_data.isnil) ? (WebIO.setval({\\\"name\\\":\\\"relayout\\\",\\\"scope\\\":\\\"11413569237761476326\\\",\\\"id\\\":\\\"6891681270421966018\\\",\\\"type\\\":\\\"observable\\\"},filtered_data.out)) : undefined})); return gd.on(\\\"plotly_click\\\",(function (data){var filtered_data=WebIO.PlotlyCommands.filterEventData(gd,data,\\\"click\\\"); return !(filtered_data.isnil) ? (WebIO.setval({\\\"name\\\":\\\"click\\\",\\\"scope\\\":\\\"11413569237761476326\\\",\\\"id\\\":\\\"1687802287613211389\\\",\\\"type\\\":\\\"observable\\\"},filtered_data.out)) : undefined}))}));\\n    (WebIO.importBlock({\\\"data\\\":[{\\\"name\\\":\\\"Plotly\\\",\\\"type\\\":\\\"js\\\",\\\"url\\\":\\\"\\/assetserver\\/4fbd3cdb767440da7987bb962b81e7f21dde7374-plotly.min.js\\\"},{\\\"name\\\":null,\\\"type\\\":\\\"js\\\",\\\"url\\\":\\\"\\/assetserver\\/800c4a64c47a73d1d0c4a7aff6649ad5e1aabeaa-plotly_webio.bundle.js\\\"}],\\\"type\\\":\\\"async_block\\\"})).then((imports) => handler.apply(this, imports));\\n}\\n\"],\"observables\":{\"_toImage\":{\"sync\":false,\"id\":\"8505668451323632630\",\"value\":{}},\"hover\":{\"sync\":false,\"id\":\"1004002010829163200\",\"value\":{}},\"selected\":{\"sync\":false,\"id\":\"2158716774342262835\",\"value\":{}},\"__gd_contents\":{\"sync\":false,\"id\":\"14829214811359174491\",\"value\":{}},\"click\":{\"sync\":false,\"id\":\"1687802287613211389\",\"value\":{}},\"image\":{\"sync\":true,\"id\":\"12430704151438290622\",\"value\":\"\"},\"__get_gd_contents\":{\"sync\":false,\"id\":\"17029365795365905122\",\"value\":\"\"},\"_downloadImage\":{\"sync\":false,\"id\":\"11436864148365890083\",\"value\":{}},\"relayout\":{\"sync\":false,\"id\":\"6891681270421966018\",\"value\":{}},\"_commands\":{\"sync\":false,\"id\":\"6838667000871364169\",\"value\":[]}}},\"children\":[{\"props\":{\"id\":\"plot-dd4a5daa-5b21-4364-a7f3-d2d5a9ef871e\"},\"nodeType\":\"DOM\",\"type\":\"node\",\"instanceArgs\":{\"namespace\":\"html\",\"tag\":\"div\"},\"children\":[]}]},\n",
       "        window,\n",
       "    );\n",
       "    })()\n",
       "    </script>\n",
       "</div>\n"
      ],
      "text/plain": [
       "data: [\n",
       "  \"scatter with fields type, x, and y\",\n",
       "  \"scatter with fields type, x, and y\",\n",
       "  \"scatter with fields type, x, and y\",\n",
       "  \"scatter with fields type, x, and y\"\n",
       "]\n",
       "\n",
       "layout: \"layout with fields margin and template\"\n",
       "\n"
      ]
     },
     "metadata": {},
     "output_type": "display_data"
    }
   ],
   "source": [
    "p = plot(rand(10, 4))"
   ]
  },
  {
   "attachments": {},
   "cell_type": "markdown",
   "metadata": {},
   "source": [
    "## 100"
   ]
  },
  {
   "cell_type": "markdown",
   "metadata": {},
   "source": []
  }
 ],
 "metadata": {
  "kernelspec": {
   "display_name": "Julia 1.9.0-beta4",
   "language": "julia",
   "name": "julia-1.9"
  },
  "language_info": {
   "file_extension": ".jl",
   "mimetype": "application/julia",
   "name": "julia",
   "version": "1.9.0-beta4"
  },
  "orig_nbformat": 4
 },
 "nbformat": 4,
 "nbformat_minor": 2
}
